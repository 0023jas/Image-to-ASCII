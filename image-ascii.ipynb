{
 "cells": [
  {
   "cell_type": "markdown",
   "id": "22b436a3",
   "metadata": {},
   "source": [
    "# Image to ASCII"
   ]
  },
  {
   "cell_type": "markdown",
   "id": "30e25993",
   "metadata": {},
   "source": [
    "## Table of Contents"
   ]
  },
  {
   "cell_type": "markdown",
   "id": "4a42d376",
   "metadata": {},
   "source": [
    "# --------------------"
   ]
  },
  {
   "cell_type": "markdown",
   "id": "712763b7",
   "metadata": {},
   "source": [
    "## 1. Importing Libraries"
   ]
  },
  {
   "cell_type": "markdown",
   "id": "074354ba",
   "metadata": {},
   "source": [
    "## 2. Encoding Image to ASCII"
   ]
  },
  {
   "cell_type": "markdown",
   "id": "575df1b3",
   "metadata": {},
   "source": [
    "## 3. Decoding ASCII"
   ]
  },
  {
   "cell_type": "markdown",
   "id": "50c76102",
   "metadata": {},
   "source": [
    "# --------------------"
   ]
  },
  {
   "cell_type": "markdown",
   "id": "0ff37de8",
   "metadata": {},
   "source": [
    "# Importing Libraries"
   ]
  },
  {
   "cell_type": "code",
   "execution_count": 1,
   "id": "78bc5f9f",
   "metadata": {},
   "outputs": [],
   "source": [
    "# Used for openning images\n",
    "from PIL import Image\n",
    "\n",
    "# Used for displaying images\n",
    "from IPython.display import display\n",
    "\n",
    "# Used for manipulating images as an array of values\n",
    "import numpy as np\n",
    "\n",
    "# Used for showing graph of values of imported images\n",
    "import matplotlib.pyplot as plt\n",
    "\n",
    "# Used for rounding values appropiately\n",
    "import math\n",
    "\n",
    "# Used for saving images and searching directories\n",
    "import os"
   ]
  },
  {
   "cell_type": "markdown",
   "id": "2c85dfb5",
   "metadata": {},
   "source": [
    "# Encoding Image to ASCII"
   ]
  },
  {
   "cell_type": "markdown",
   "id": "21c25eea",
   "metadata": {},
   "source": [
    "## Importing and Grayscaling Image"
   ]
  },
  {
   "cell_type": "code",
   "execution_count": null,
   "id": "ceac86bd",
   "metadata": {},
   "outputs": [],
   "source": [
    "# Open the image\n",
    "black_white_image = Image.open(\"input-imgs/hot-dog.png\").convert('L')\n",
    "\n",
    "# Convert the image to a NumPy array\n",
    "black_white_image_array = np.array(black_white_image)"
   ]
  },
  {
   "cell_type": "code",
   "execution_count": null,
   "id": "15b4b634",
   "metadata": {},
   "outputs": [],
   "source": [
    "# Convert the edited array back to an image\n",
    "black_white_image = Image.fromarray(black_white_image_array)\n",
    "\n",
    "# Shows the grayscaled image\n",
    "#display(black_white_image)\n",
    "\n",
    "# Prints the resolution of the image\n",
    "width, height = black_white_image.size\n",
    "#print(\"Resolution: \" + str(width) + \"x\" + str(height))"
   ]
  },
  {
   "cell_type": "markdown",
   "id": "9adaae5f",
   "metadata": {},
   "source": [
    "## Changing Resolution"
   ]
  },
  {
   "cell_type": "code",
   "execution_count": null,
   "id": "e7e71d3d",
   "metadata": {},
   "outputs": [],
   "source": [
    "# Function to perform the averaging operation\n",
    "def average_cells(arr):\n",
    "    # Removing pixels to ensure that both resolution values are even\n",
    "    if(len(arr) % 2 != 0):\n",
    "        arr= np.delete(arr, 0, axis=0)\n",
    "\n",
    "    if(len(arr[0]) % 2 != 0):\n",
    "        # Checking and adjusting horizontal resolution\n",
    "        # Removing the first column\n",
    "        arr = arr[:, 1:]\n",
    "    \n",
    "    n, m = arr.shape[0] // 2, arr.shape[1] // 2\n",
    "    return arr.reshape(n, 2, m, 2).mean(axis=(1, 3)).astype(int)"
   ]
  },
  {
   "cell_type": "code",
   "execution_count": null,
   "id": "3ea7694d",
   "metadata": {},
   "outputs": [],
   "source": [
    "# Iterates the averaging cells function to reduce resolution\n",
    "# x and y values can be modified to change the new resolution, variables or parameters in while loop are modifiable\n",
    "x = 1001\n",
    "y = 1001\n",
    "while x > 100 and y > 100:\n",
    "    \n",
    "    x = len(black_white_image_array[0])\n",
    "    y = len(black_white_image_array)\n",
    "    \n",
    "    if(x > 64 and y > 64):\n",
    "        black_white_image_array = average_cells(black_white_image_array)\n",
    "\n",
    "        x = len(black_white_image_array[0])\n",
    "        y = len(black_white_image_array)\n",
    "\n",
    "# Creates the a new image from the new array\n",
    "black_white_image_low_res = Image.fromarray(black_white_image_array.astype('uint8'))\n",
    "\n",
    "# Shows the image and its new resolution\n",
    "#display(black_white_image_low_res)\n",
    "#print(\"New Resolution: \" + str(x) + \"x\" + str(y))"
   ]
  },
  {
   "cell_type": "markdown",
   "id": "783d8292",
   "metadata": {},
   "source": [
    "## Graphing Values Present in Image"
   ]
  },
  {
   "cell_type": "code",
   "execution_count": null,
   "id": "f2dccc64",
   "metadata": {},
   "outputs": [],
   "source": [
    "# Setting bin counts used to define the number of ASCII characters present in the ASCII art (13 is recommended)\n",
    "image_bin_count = 13\n",
    "\n",
    "# Computing histogram values and the bin edges\n",
    "hist, bin_edges = np.histogram(black_white_image_array, bins=image_bin_count)\n",
    "\n",
    "# Print histogram values and bin edges\n",
    "#print(\"Histogram values:\", hist)\n",
    "#print(\"Bin edges:\", bin_edges)\n",
    "\n",
    "# Optionally, plot the histogram\n",
    "#plt.hist(black_white_image_array, bins=image_bin_count, edgecolor='#A7C7E7')\n",
    "#plt.xlabel('Pixel Value')\n",
    "#plt.ylabel('Pixel Value Frequency')\n",
    "#plt.title('Histogram of Pixel Values')\n",
    "#plt.show()"
   ]
  },
  {
   "cell_type": "markdown",
   "id": "6fcff378",
   "metadata": {},
   "source": [
    "## ASCII Characters Lists"
   ]
  },
  {
   "cell_type": "code",
   "execution_count": null,
   "id": "0e62bb00",
   "metadata": {},
   "outputs": [],
   "source": [
    "ALL_ASCII_CHARS = ['$', '@', 'B', '%', '8', '&', 'W', 'M', '#', '*', 'o', 'a', 'h', 'k', 'b', 'd', 'p', 'q', 'w', 'm', 'Z', 'O', '0', 'Q', 'L', 'C', 'J', 'U', 'Y', 'X', 'z', 'c', 'v', 'u', 'n', 'x', 'r', 'j', 'f', 't', '/', '\\\\', '|', '(', ')', '1', '{', '}', '[', ']', '?', '-', '_', '+', '~', '<', '>', 'i', '!', 'l', 'I', ';', ':', ',', '^', '`', \"'\", '.']\n",
    "STYLE_ASCII_CHARS = [\"@\", \"#\", \"$\", 'B', \"%\", \"?\", \"*\", \"+\", ';', \":\", \",\", \".\", \" \"]\n",
    "\n",
    "FULL_ASCII_CHARS = STYLE_ASCII_CHARS"
   ]
  },
  {
   "cell_type": "markdown",
   "id": "3a0e72f3",
   "metadata": {},
   "source": [
    "## Converting Pixel Integer Values to ASCII"
   ]
  },
  {
   "cell_type": "code",
   "execution_count": null,
   "id": "94c971e4",
   "metadata": {},
   "outputs": [],
   "source": [
    "# Function to convert values in numpy array to ASCII characters\n",
    "def set_ascii_chars(image_array):\n",
    "    \n",
    "    # Array to fill with values representing ASCII art\n",
    "    ascii_image = []\n",
    "    \n",
    "    # Loops through the rows of the input array\n",
    "    for i in range(len(image_array)):\n",
    "        \n",
    "        # Array to fill with values representing lines in ASCII art\n",
    "        ascii_image_line = []\n",
    "        \n",
    "        # Loops through elements in line of numpy array\n",
    "        for j in range(len(image_array[i])):\n",
    "            \n",
    "            # Appends ASCII character to row list based on \n",
    "            for k in range(len(bin_edges)-1):\n",
    "                if(image_array[i][j] == bin_edges[k+1]):\n",
    "                    ascii_image_line.append(FULL_ASCII_CHARS[k])\n",
    "\n",
    "                elif(image_array[i][j] > bin_edges[k] and image_array[i][j] < bin_edges[k+1]):\n",
    "                    ascii_image_line.append(FULL_ASCII_CHARS[k])\n",
    "        \n",
    "        # Ensures ASCII line length is the same as the image line length\n",
    "        # Adds space character if line length is less than the resolution\n",
    "        x_difference = x - len(ascii_image_line)\n",
    "        for l in range(x_difference):\n",
    "            ascii_image_line.append(\" \")\n",
    "        \n",
    "        # Appends each line of the ASCII art\n",
    "        ascii_image.append(ascii_image_line)\n",
    "        ascii_image_line = []\n",
    "    \n",
    "    # Returns a new list of lists that represents an image in ASCII art\n",
    "    return ascii_image"
   ]
  },
  {
   "cell_type": "markdown",
   "id": "9af9fa3a",
   "metadata": {},
   "source": [
    "## Displaying the New ASCII Image"
   ]
  },
  {
   "cell_type": "code",
   "execution_count": null,
   "id": "b315eeb3",
   "metadata": {},
   "outputs": [],
   "source": [
    "ascii_image = set_ascii_chars(black_white_image_array)\n",
    "\n",
    "# Iterate through the rows in ascii_image\n",
    "for row in ascii_image:\n",
    "    # Convert the elements to strings and join them without spaces\n",
    "    line_of_text = \"\".join(map(str, row))\n",
    "    # Print each line\n",
    "    #print(line_of_text)"
   ]
  },
  {
   "cell_type": "markdown",
   "id": "ec9377f9",
   "metadata": {},
   "source": [
    "## Saving ASCII Art"
   ]
  },
  {
   "cell_type": "code",
   "execution_count": null,
   "id": "dcaa8a31",
   "metadata": {},
   "outputs": [],
   "source": [
    "# Parent folder of saved .txt files\n",
    "folder_path = 'output-msgs'\n",
    "\n",
    "# Finds number of files in directory, used for naming the file\n",
    "num_of_files = len(os.listdir(folder_path))\n",
    "\n",
    "# Sets the filename\n",
    "message_filename = \"message-\" + str(num_of_files)\n",
    "\n",
    "# Sets the filepath\n",
    "message_filepath = os.path.join(folder_path, message_filename)\n",
    "\n",
    "# Writes the ascii_image list of lists to the message-n.txt file\n",
    "with open(message_filepath, 'w') as file:\n",
    "    # Iterate through the rows in ascii_image\n",
    "    for row in ascii_image:\n",
    "        # Convert the elements to strings and join them without spaces\n",
    "        line_of_text = \"\".join(map(str, row))\n",
    "        # Save each line\n",
    "        file.write(line_of_text + '\\n')"
   ]
  },
  {
   "cell_type": "markdown",
   "id": "83fb4de6",
   "metadata": {},
   "source": [
    "# Decoding Ascii"
   ]
  },
  {
   "cell_type": "markdown",
   "id": "65dc9b03",
   "metadata": {},
   "source": [
    "## Import Message File"
   ]
  },
  {
   "cell_type": "code",
   "execution_count": 2,
   "id": "b8d6aed4",
   "metadata": {},
   "outputs": [],
   "source": [
    "# The folder path of .txt files with ASCII art\n",
    "folder_path = 'input-msgs'\n",
    "\n",
    "# The filename of the ASCII art\n",
    "message_filename = 'message-1'\n",
    "\n",
    "# Creating the full filepath for the ASCII art\n",
    "message_filepath = os.path.join(folder_path, message_filename)\n",
    "\n",
    "# Creating empty list for .txt file data\n",
    "ascii_image = []\n",
    "\n",
    "# Open the file in read mode\n",
    "with open(message_filepath, 'r') as file:\n",
    "    for line in file:\n",
    "        # Convert each character of the line into a list and append to ascii_image\n",
    "        ascii_image.append(list(line.replace('\\n', '')))\n",
    "\n",
    "# Return list of list representing characters in imported .txt file\n",
    "#print(ascii_image)"
   ]
  },
  {
   "cell_type": "markdown",
   "id": "6661a5c1",
   "metadata": {},
   "source": [
    "## Creating Value Dictionary"
   ]
  },
  {
   "cell_type": "code",
   "execution_count": 3,
   "id": "2fd36c5c",
   "metadata": {},
   "outputs": [],
   "source": [
    "# List used to determine relative position of sublist items\n",
    "FULL_ASCII_CHARS = ['@', '#', '$', 'B', '%', '?', '8', '&', 'W', 'M', '*', 'o', 'a', 'h', 'k', 'b', 'd', 'p', 'q', 'w', 'm', 'Z', 'O', '0', 'Q', 'L', 'C', 'J', 'U', 'Y', 'X', 'z', 'c', 'v', 'u', 'n', 'x', 'r', 'j', 'f', 't', '/', '\\\\', '|', '(', ')', '1', '{', '}', '[', ']', '-', '_', '+', '~', '<', '>', 'i', '!', 'l', 'I', ';', ':', ',', '^', '`', \"'\", '.', ' ']\n",
    "\n",
    "# Finds all the unique characters in the image\n",
    "unique_list = []\n",
    "for row in range(len(ascii_image)):\n",
    "    for cell in range(len(ascii_image[row])):\n",
    "        if(ascii_image[row][cell] not in unique_list):\n",
    "            unique_list.append(ascii_image[row][cell])\n",
    "# Displays the unique characters in the list\n",
    "#print(unique_list)\n",
    "\n",
    "# Sorts the list of ascii characters relative to the FULL_ASCII_CHARS list\n",
    "sorted_unique_list = sorted(unique_list, key=FULL_ASCII_CHARS.index)\n",
    "# Displays character list ordered relative to the 'FULL_ASCII_CHARS' list\n",
    "#print(sorted_unique_list)\n",
    "\n",
    "# Generates the Step Value, the value difference between each ASCII character out of 255 grey shades\n",
    "sorted_list_length = len(sorted_unique_list)\n",
    "color_distance = 255 / sorted_list_length\n",
    "color_distance = math.floor(color_distance)\n",
    "\n",
    "# Outputs the final sorted dictionary with each shade value assigned to each ASCII character\n",
    "sorted_list_dictionary = {item: int(index * color_distance) for index, item in enumerate(sorted_unique_list)}\n",
    "# Displays the sorted dictionary with assigned values\n",
    "#print(sorted_list_dictionary)"
   ]
  },
  {
   "cell_type": "markdown",
   "id": "874604f9",
   "metadata": {},
   "source": [
    "## Generating Image"
   ]
  },
  {
   "cell_type": "code",
   "execution_count": 4,
   "id": "5c7a5154",
   "metadata": {},
   "outputs": [],
   "source": [
    "# Empty list that will store the values representing the decoded image\n",
    "low_res_bw_decode_array = []\n",
    "\n",
    "# Adding values to empty list based on the created dictionary\n",
    "for row in range(len(ascii_image)):\n",
    "    current_row = []\n",
    "    for cell in range(len(ascii_image[row])):\n",
    "        current_row.append(sorted_list_dictionary[ascii_image[row][cell]])\n",
    "    \n",
    "    # Adding each row to the original list\n",
    "    low_res_bw_decode_array.append(current_row)\n",
    "\n",
    "# Displays the new list of lists with the new values\n",
    "#print(low_res_bw_decode_array)\n",
    "\n",
    "# Changing array to a numpy array\n",
    "low_res_bw_decode_numpy = np.array(low_res_bw_decode_array)\n",
    "\n",
    "# Converting the numpy array to an image\n",
    "low_res_bw_decode_image = Image.fromarray(low_res_bw_decode_numpy.astype('uint8'))\n",
    "\n",
    "# Shows the image\n",
    "#display(low_res_bw_decode_image)\n",
    "\n"
   ]
  },
  {
   "cell_type": "markdown",
   "id": "929d259b",
   "metadata": {},
   "source": [
    "## Saving the Generated Images"
   ]
  },
  {
   "cell_type": "code",
   "execution_count": 5,
   "id": "b315d177",
   "metadata": {},
   "outputs": [],
   "source": [
    "# Output folder name\n",
    "output_folder_path = 'output-imgs'\n",
    "\n",
    "# Calculates number of files in list for naming convention\n",
    "num_of_files = len(os.listdir(output_folder_path))\n",
    "\n",
    "# Creates image filename\n",
    "image_filename = \"img-\" + str(num_of_files) + \".png\"\n",
    "\n",
    "# Creates image filepath \n",
    "image_filepath = os.path.join(output_folder_path, image_filename)\n",
    "\n",
    "# Saves the image\n",
    "low_res_bw_decode_image.save(image_filepath)"
   ]
  }
 ],
 "metadata": {
  "kernelspec": {
   "display_name": "Python 3 (ipykernel)",
   "language": "python",
   "name": "python3"
  },
  "language_info": {
   "codemirror_mode": {
    "name": "ipython",
    "version": 3
   },
   "file_extension": ".py",
   "mimetype": "text/x-python",
   "name": "python",
   "nbconvert_exporter": "python",
   "pygments_lexer": "ipython3",
   "version": "3.9.13"
  }
 },
 "nbformat": 4,
 "nbformat_minor": 5
}
