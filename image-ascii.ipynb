{
 "cells": [
  {
   "cell_type": "code",
   "execution_count": 144,
   "id": "78bc5f9f",
   "metadata": {},
   "outputs": [],
   "source": [
    "# Used for openning images\n",
    "from PIL import Image\n",
    "\n",
    "# Used for displaying images\n",
    "from IPython.display import display\n",
    "\n",
    "# Used for manipulating images as an array of values\n",
    "import numpy as np\n",
    "\n",
    "# Used for showing graph of values of imported images\n",
    "import matplotlib.pyplot as plt\n",
    "\n",
    "# Used for rounding values appropiately\n",
    "import math\n",
    "\n",
    "# Used for saving images and searching directories\n",
    "import os"
   ]
  },
  {
   "cell_type": "markdown",
   "id": "e5faa30d",
   "metadata": {},
   "source": [
    "# Encoding Image to ASCII"
   ]
  },
  {
   "cell_type": "markdown",
   "id": "48a7ddac",
   "metadata": {},
   "source": [
    "## Importing and Grayscaling Image"
   ]
  },
  {
   "cell_type": "code",
   "execution_count": 145,
   "id": "ceac86bd",
   "metadata": {},
   "outputs": [],
   "source": [
    "# Open the image\n",
    "black_white_image = Image.open(\"input-imgs/hot-dog.png\").convert('L')\n",
    "\n",
    "# Convert the image to a NumPy array\n",
    "black_white_image_array = np.array(black_white_image)"
   ]
  },
  {
   "cell_type": "code",
   "execution_count": 146,
   "id": "15b4b634",
   "metadata": {},
   "outputs": [],
   "source": [
    "# Convert the edited array back to an image\n",
    "black_white_image = Image.fromarray(black_white_image_array)\n",
    "\n",
    "# Shows the grayscaled image\n",
    "#display(black_white_image)\n",
    "\n",
    "# Prints the resolution of the image\n",
    "width, height = black_white_image.size\n",
    "#print(\"Resolution: \" + str(width) + \"x\" + str(height))"
   ]
  },
  {
   "cell_type": "markdown",
   "id": "9adaae5f",
   "metadata": {},
   "source": [
    "## Changing Resolution"
   ]
  },
  {
   "cell_type": "code",
   "execution_count": 149,
   "id": "e7e71d3d",
   "metadata": {},
   "outputs": [],
   "source": [
    "# Function to perform the averaging operation\n",
    "def average_cells(arr):\n",
    "    # Removing pixels to ensure that both resolution values are even\n",
    "    if(len(arr) % 2 != 0):\n",
    "        arr= np.delete(arr, 0, axis=0)\n",
    "\n",
    "    if(len(arr[0]) % 2 != 0):\n",
    "        # Checking and adjusting horizontal resolution\n",
    "        # Removing the first column\n",
    "        arr = arr[:, 1:]\n",
    "    \n",
    "    n, m = arr.shape[0] // 2, arr.shape[1] // 2\n",
    "    return arr.reshape(n, 2, m, 2).mean(axis=(1, 3)).astype(int)"
   ]
  },
  {
   "cell_type": "code",
   "execution_count": 150,
   "id": "3ea7694d",
   "metadata": {},
   "outputs": [
    {
     "ename": "SyntaxError",
     "evalue": "invalid syntax (2049321503.py, line 10)",
     "output_type": "error",
     "traceback": [
      "\u001b[0;36m  Cell \u001b[0;32mIn[150], line 10\u001b[0;36m\u001b[0m\n\u001b[0;31m    if(x > 64 and y > 64)\u001b[0m\n\u001b[0m                         ^\u001b[0m\n\u001b[0;31mSyntaxError\u001b[0m\u001b[0;31m:\u001b[0m invalid syntax\n"
     ]
    }
   ],
   "source": [
    "# Iterates the averaging cells function to reduce resolution\n",
    "# x and y values can be modified to change the new resolution, variables or parameters in while loop are modifiable\n",
    "x = 1001\n",
    "y = 1001\n",
    "while x > 100 and y > 100:\n",
    "    \n",
    "    x = len(black_white_image_array[0])\n",
    "    y = len(black_white_image_array)\n",
    "    \n",
    "    if(x > 64 and y > 64):\n",
    "        black_white_image_array = average_cells(black_white_image_array)\n",
    "\n",
    "        x = len(black_white_image_array[0])\n",
    "        y = len(black_white_image_array)\n",
    "\n",
    "# Creates the a new image from the new array\n",
    "black_white_image_low_res = Image.fromarray(black_white_image_array.astype('uint8'))\n",
    "\n",
    "# Shows the image and its new resolution\n",
    "display(black_white_image_low_res)\n",
    "print(\"New Resolution: \" + str(x) + \"x\" + str(y))"
   ]
  },
  {
   "cell_type": "markdown",
   "id": "783d8292",
   "metadata": {},
   "source": [
    "# Encoding to ascii"
   ]
  },
  {
   "cell_type": "code",
   "execution_count": 112,
   "id": "7168d572",
   "metadata": {},
   "outputs": [],
   "source": [
    "gscale_dscale_image_array = np.array(gscale_dscale_image_array)"
   ]
  },
  {
   "cell_type": "code",
   "execution_count": 113,
   "id": "f2dccc64",
   "metadata": {},
   "outputs": [
    {
     "name": "stdout",
     "output_type": "stream",
     "text": [
      "Histogram values: [  33  152  324  350  400  323  261  165   39 2049]\n",
      "Bin edges: [ 36.   57.9  79.8 101.7 123.6 145.5 167.4 189.3 211.2 233.1 255. ]\n"
     ]
    },
    {
     "data": {
      "image/png": "[encoded data removed]",
      "text/plain": [
       "<Figure size 640x480 with 1 Axes>"
      ]
     },
     "metadata": {},
     "output_type": "display_data"
    }
   ],
   "source": [
    "# Compute the histogram\n",
    "hist, bin_edges = np.histogram(gscale_dscale_image_array, bins=10)\n",
    "\n",
    "# Print the histogram values\n",
    "print(\"Histogram values:\", hist)\n",
    "\n",
    "# Print the bin edges\n",
    "print(\"Bin edges:\", bin_edges)\n",
    "\n",
    "# Optionally, plot the histogram\n",
    "plt.hist(gscale_dscale_image_array, bins=10, edgecolor='black')\n",
    "plt.xlabel('Value')\n",
    "plt.ylabel('Frequency')\n",
    "plt.title('Histogram')\n",
    "plt.show()"
   ]
  },
  {
   "cell_type": "code",
   "execution_count": 114,
   "id": "94c971e4",
   "metadata": {},
   "outputs": [
    {
     "name": "stdout",
     "output_type": "stream",
     "text": [
      "[ 36.          52.84615385  69.69230769  86.53846154 103.38461538\n",
      " 120.23076923 137.07692308 153.92307692 170.76923077 187.61538462\n",
      " 204.46153846 221.30769231 238.15384615 255.        ]\n",
      "13\n",
      "[[' ', ' ', ' ', ' ', ' ', ' ', ' ', ' ', ' ', ' ', ' ', ' ', ' ', ' ', ' ', ' ', ' ', ' ', ' ', ' ', ' ', ' ', ' ', ' ', ' ', ' ', ' ', ' ', ' ', ' ', ' ', ' ', ' ', ' ', ' ', ' ', ' ', ' ', ' ', ' ', ' ', ' ', ' ', ' ', ' ', ' ', ' ', ' ', ' ', ' ', ' ', ' ', ' ', ' ', ' ', ' ', ' ', ' ', ' ', ' ', ' ', ' ', ' ', ' '], [' ', ' ', ' ', ' ', ' ', ' ', ' ', ' ', ' ', ' ', ' ', ' ', ' ', ' ', ' ', ' ', ' ', ' ', ' ', ' ', ' ', ' ', ' ', ' ', ' ', ' ', ' ', ' ', ' ', ' ', ' ', ' ', ' ', ' ', ' ', ' ', ' ', ' ', ' ', ' ', ' ', ' ', ' ', ' ', ' ', ' ', ' ', ' ', ' ', ' ', ' ', ' ', ' ', ' ', ' ', ' ', ' ', ' ', ' ', ' ', ' ', ' ', ' ', ' '], [' ', ' ', ' ', ' ', ' ', ' ', ' ', ' ', ' ', ' ', ' ', ' ', '.', ':', ';', ':', '.', ' ', ' ', ' ', ' ', ' ', ' ', ' ', ' ', ' ', ' ', ' ', ' ', ' ', ' ', ' ', ' ', ' ', ' ', ' ', ' ', ' ', ' ', ' ', ' ', ' ', ' ', ' ', ' ', ' ', ' ', ' ', ' ', ' ', ' ', ' ', ' ', ' ', ' ', ' ', ' ', ' ', ' ', ' ', ' ', ' ', ' ', ' '], [' ', ' ', ' ', ' ', ' ', ' ', ' ', ' ', ' ', ' ', '.', '*', 'B', 'B', 'B', '%', '%', ';', ' ', ' ', ' ', ' ', ' ', ' ', ' ', ' ', ' ', ' ', ' ', ' ', ' ', ' ', ' ', ' ', ' ', ' ', ' ', ' ', ' ', ' ', ' ', ' ', ' ', ' ', ' ', ' ', ' ', ' ', ' ', ' ', ' ', ' ', ' ', ' ', ' ', ' ', ' ', ' ', ' ', ' ', ' ', ' ', ' ', ' '], [' ', ' ', ' ', ' ', ' ', ' ', ' ', ' ', ' ', ',', '%', '$', '$', 'B', '%', '*', '?', '?', ';', ' ', ' ', ' ', ' ', ' ', ' ', ' ', ' ', ' ', ' ', ' ', ' ', ' ', ' ', ' ', ' ', ' ', ' ', ' ', ' ', ' ', ' ', ' ', ' ', ' ', ' ', ' ', ' ', ' ', ' ', ' ', ' ', ' ', ' ', ' ', ' ', ' ', ' ', ' ', ' ', ' ', ' ', ' ', ' ', ' '], [' ', ' ', ' ', ' ', ' ', ' ', ' ', ' ', '.', '%', '$', '#', '$', 'B', '?', '+', ';', '+', ':', ';', ' ', ' ', '.', ' ', ' ', ' ', ' ', ' ', ' ', ' ', ' ', ' ', ' ', ' ', ' ', ' ', ' ', ' ', ' ', ' ', ' ', ' ', ' ', ' ', ' ', ' ', ' ', ' ', ' ', ' ', ' ', ' ', ' ', ' ', ' ', ' ', ' ', ' ', ' ', ' ', ' ', ' ', ' ', ' '], [' ', ' ', ' ', ' ', ' ', ' ', ' ', ' ', '+', '$', '#', '#', '$', '$', '%', '*', '+', '+', ':', '*', ';', '?', '*', '+', ';', '.', ' ', ' ', ' ', ' ', ' ', ' ', ' ', ' ', ' ', ' ', ' ', ' ', ' ', ' ', ' ', ' ', ' ', ' ', ' ', ' ', ' ', ' ', ' ', ' ', ' ', ' ', ' ', ' ', ' ', ' ', ' ', ' ', ' ', ' ', ' ', ' ', ' ', ' '], [' ', ' ', ' ', ' ', ' ', ' ', ' ', ' ', '?', '$', '#', '#', '#', '$', '$', '%', '*', ';', ';', '?', '*', '%', 'B', '?', '*', '*', ':', ' ', ' ', ' ', ' ', ' ', ' ', ' ', ' ', ' ', ' ', ' ', ' ', ' ', ' ', ' ', ' ', ' ', ' ', ' ', ' ', ' ', ' ', ' ', ' ', ' ', ' ', ' ', ' ', ' ', ' ', ' ', ' ', ' ', ' ', ' ', ' ', ' '], [' ', ' ', ' ', ' ', ' ', ' ', ' ', '.', '?', '#', '#', '#', '#', '#', '$', 'B', '?', '+', ';', '?', '?', '+', 'B', 'B', '?', '*', '*', ';', ' ', ' ', ' ', ' ', ' ', ' ', ' ', ' ', ' ', ' ', ' ', ' ', ' ', ' ', ' ', ' ', ' ', ' ', ' ', ' ', ' ', ' ', ' ', ' ', ' ', ' ', ' ', ' ', ' ', ' ', ' ', ' ', ' ', ' ', ' ', ' '], [' ', ' ', ' ', ' ', ' ', ' ', ' ', '.', '?', '$', '#', '$', '$', '$', '$', '$', '%', '+', ';', '+', '?', '*', '*', 'B', 'B', '?', '*', '*', ':', ' ', ' ', ' ', ' ', ' ', ' ', ' ', ' ', ' ', ' ', ' ', ' ', ' ', ' ', ' ', ' ', ' ', ' ', ' ', ' ', ' ', ' ', ' ', ' ', ' ', ' ', ' ', ' ', ' ', ' ', ' ', ' ', ' ', ' ', ' '], [' ', ' ', ' ', ' ', ' ', ' ', ' ', ' ', '+', 'B', '#', '#', '#', '$', '$', '$', 'B', '+', ';', '+', '*', '?', '+', '%', 'B', '%', '?', '+', '*', ',', ' ', ' ', ' ', ' ', ' ', ' ', ' ', ' ', ' ', ' ', ' ', ' ', ' ', ' ', ' ', ' ', ' ', ' ', ' ', ' ', ' ', ' ', ' ', ' ', ' ', ' ', ' ', ' ', ' ', ' ', ' ', ' ', ' ', ' '], [' ', ' ', ' ', ' ', ' ', ' ', ' ', ':', ';', ';', ':', ':', '+', 'B', '#', '#', '$', '?', ';', ';', '+', '?', '?', '+', 'B', 'B', '%', '?', '+', '+', '.', ' ', ' ', ' ', ' ', ' ', ' ', ' ', ' ', ' ', ' ', ' ', ' ', ' ', ' ', ' ', ' ', ' ', ' ', ' ', ' ', ' ', ' ', ' ', ' ', ' ', ' ', ' ', ' ', ' ', ' ', ' ', ' ', ' '], [' ', ' ', ' ', ' ', ' ', ',', '+', '+', '+', ';', ':', ':', ',', ':', '?', '#', '#', 'B', '+', ';', '+', '+', '?', '?', '*', 'B', 'B', '%', '*', '+', ';', ' ', ' ', ' ', ' ', ' ', ' ', ' ', ' ', ' ', ' ', ' ', ' ', ' ', ' ', ' ', ' ', ' ', ' ', ' ', ' ', ' ', ' ', ' ', ' ', ' ', ' ', ' ', ' ', ' ', ' ', ' ', ' ', ' '], [' ', ' ', ' ', ' ', ',', '*', '*', '*', '+', '+', ';', ':', ':', ':', ',', '?', '#', '#', '?', '+', ';', ';', '*', '?', '*', '?', 'B', '%', '?', '+', '+', ',', ' ', ' ', ' ', ' ', ' ', ' ', ' ', ' ', ' ', ' ', ' ', ' ', ' ', ' ', ' ', ' ', ' ', ' ', ' ', ' ', ' ', ' ', ' ', ' ', ' ', ' ', ' ', ' ', ' ', ' ', ' ', ' '], [' ', ' ', ' ', '.', '*', '?', '?', '*', '+', '+', ';', ';', ':', ':', ',', ',', '%', '#', '#', '?', '+', ';', ';', '*', '?', '+', '%', 'B', '%', '?', '+', '+', '.', ' ', ' ', ' ', ' ', ' ', ' ', ' ', ' ', ' ', ' ', ' ', ' ', ' ', ' ', ' ', ' ', ' ', ' ', ' ', ' ', ' ', ' ', ' ', ' ', ' ', ' ', ' ', ' ', ' ', ' ', ' '], [' ', ' ', ' ', ';', '%', '?', '?', '*', '*', '+', '+', ';', ';', ':', ':', ',', ':', '$', '#', '#', '?', '+', ';', ';', ';', '*', '+', 'B', 'B', '%', '*', '+', ';', ' ', ' ', ' ', ' ', ' ', ' ', ' ', ' ', ' ', ' ', ' ', ' ', ' ', ' ', ' ', ' ', ' ', ' ', ' ', ' ', ' ', ' ', ' ', ' ', ' ', ' ', ' ', ' ', ' ', ' ', ' '], [' ', ' ', ' ', '?', '%', '%', '?', '?', '*', '*', '+', '+', ';', ':', ':', ':', ',', '+', '#', '#', '#', '$', '?', '+', '+', ';', '+', '*', 'B', '%', '%', '+', '+', ';', ' ', ' ', ' ', ' ', ' ', ' ', ' ', ' ', ' ', ' ', ' ', ' ', ' ', ' ', ' ', ' ', ' ', ' ', ' ', ' ', ' ', ' ', ' ', ' ', ' ', ' ', ' ', ' ', ' ', ' '], [' ', ' ', ',', '%', '%', '%', '?', '?', '?', '*', '+', '+', '+', ';', ':', ':', ':', ',', '%', '#', '#', '$', '#', '$', '?', '+', ';', ';', '?', 'B', '%', '?', '+', '+', ':', ' ', ' ', ' ', ' ', ' ', ' ', ' ', ' ', ' ', ' ', ' ', ' ', ' ', ' ', ' ', ' ', ' ', ' ', ' ', ' ', ' ', ' ', ' ', ' ', ' ', ' ', ' ', ' ', ' '], [' ', ' ', ';', '%', '%', '%', '%', '?', '?', '*', '*', '+', '+', ';', ';', ':', ':', ':', ':', '$', '#', '$', 'B', '%', '$', 'B', '+', ';', ';', '%', 'B', '%', '?', '+', '+', ',', ' ', ' ', ' ', ' ', ' ', ' ', ' ', ' ', ' ', ' ', ' ', ' ', ' ', ' ', ' ', ' ', ' ', ' ', ' ', ' ', ' ', ' ', ' ', ' ', ' ', ' ', ' ', ' '], [' ', ' ', '+', '%', '%', '%', '%', '?', '?', '?', '*', '*', '+', '+', ';', ';', ':', ':', ':', '+', '#', '#', '$', 'B', '?', '%', 'B', '+', ';', ';', 'B', 'B', '%', '*', '+', '+', '.', ' ', ' ', ' ', ' ', ' ', ' ', ' ', ' ', ' ', ' ', ' ', ' ', ' ', ' ', ' ', ' ', ' ', ' ', ' ', ' ', ' ', ' ', ' ', ' ', ' ', ' ', ' '], [' ', ' ', '+', '%', 'B', '%', '%', '?', '?', '?', '*', '*', '*', '+', '+', ';', ';', ':', ':', ':', '?', '#', '#', '$', '%', '*', '%', '%', '+', ';', '*', 'B', 'B', '%', '+', '+', ';', ' ', ' ', ' ', ' ', ' ', ' ', ' ', ' ', ' ', ' ', ' ', ' ', ' ', ' ', ' ', ' ', ' ', ' ', ' ', ' ', ' ', ' ', ' ', ' ', ' ', ' ', ' '], [' ', ' ', '+', 'B', 'B', '%', '%', '%', '?', '?', '?', '*', '*', '+', '+', '+', ';', ':', ':', ':', ':', 'B', '#', '#', '$', '%', '*', 'B', '+', ';', '*', '?', '$', 'B', '?', '+', '+', ';', ' ', ' ', ' ', ' ', ' ', ' ', ' ', ' ', ' ', ' ', ' ', ' ', ' ', ' ', ' ', ' ', ' ', ' ', ' ', ' ', ' ', ' ', ' ', ' ', ' ', ' '], [' ', ' ', ';', '%', 'B', 'B', '%', '%', '?', '?', '?', '*', '*', '*', '+', '+', ';', ';', ':', ':', ':', ':', '$', '#', '$', 'B', '?', '%', '*', ';', '*', '*', '?', 'B', 'B', '?', '+', '+', ':', ' ', ' ', ' ', ' ', ' ', ' ', ' ', ' ', ' ', ' ', ' ', ' ', ' ', ' ', ' ', ' ', ' ', ' ', ' ', ' ', ' ', ' ', ' ', ' ', ' '], [' ', ' ', ':', '%', 'B', 'B', '%', '%', '?', '?', '?', '?', '*', '*', '*', '+', '+', ';', ';', ':', ':', ':', ';', '#', '#', '$', 'B', '%', '*', ';', '+', '?', '*', '%', 'B', '%', '?', ';', '+', ',', ' ', ' ', ' ', ' ', ' ', ' ', ' ', ' ', ' ', ' ', ' ', ' ', ' ', ' ', ' ', ' ', ' ', ' ', ' ', ' ', ' ', ' ', ' ', ' '], [' ', ' ', '.', '%', 'B', 'B', 'B', '%', '%', '?', '?', '?', '?', '*', '*', '+', '+', '+', ';', ';', ':', ':', ':', '*', '#', '#', '$', 'B', '?', ';', ';', '*', '?', '*', '%', 'B', '%', '*', '+', '+', ',', ' ', ' ', ' ', ' ', ' ', ' ', ' ', ' ', ' ', ' ', ' ', ' ', ' ', ' ', ' ', ' ', ' ', ' ', ' ', ' ', ' ', ' ', ' '], [' ', ' ', ' ', '?', 'B', 'B', 'B', 'B', '%', '%', '?', '?', '?', '*', '*', '*', '+', '+', '+', ';', ';', ':', ':', ':', '%', '#', '#', '$', '?', '+', ';', '+', '*', '?', '*', 'B', 'B', '%', '*', '+', '+', ',', ' ', ' ', ' ', ' ', ' ', ' ', ' ', ' ', ' ', ' ', ' ', ' ', ' ', ' ', ' ', ' ', ' ', ' ', ' ', ' ', ' ', ' '], [' ', ' ', ' ', ';', '%', 'B', 'B', 'B', '%', '%', '?', '?', '?', '?', '*', '*', '*', '+', '+', ';', ';', ':', ':', ':', ':', 'B', '#', '#', '%', '+', ';', '+', '+', '?', '?', '*', 'B', 'B', '%', '*', '+', '+', ',', ' ', ' ', ' ', ' ', ' ', ' ', ' ', ' ', ' ', ' ', ' ', ' ', ' ', ' ', ' ', ' ', ' ', ' ', ' ', ' ', ' '], [' ', ' ', ' ', '.', '%', 'B', 'B', 'B', 'B', '%', '%', '?', '?', '?', '?', '*', '*', '*', '+', '+', ';', ';', ':', ':', ':', ':', '$', '#', '$', '+', ';', '*', '+', '+', '?', '?', '*', 'B', 'B', '%', '*', ';', '+', ',', ' ', ' ', ' ', ' ', ' ', ' ', ' ', ' ', ' ', ' ', ' ', ' ', ' ', ' ', ' ', ' ', ' ', ' ', ' ', ' '], [' ', ' ', ' ', ' ', '*', '%', 'B', 'B', 'B', 'B', '%', '%', '?', '?', '?', '?', '*', '*', '*', '+', '+', ';', ';', ':', ':', ':', ';', '#', '#', '+', ';', '*', '*', '+', '+', '?', '?', '*', 'B', 'B', '%', '*', ';', '+', ',', ' ', ' ', ' ', ' ', ' ', ' ', ' ', ' ', ' ', ' ', ' ', ' ', ' ', ' ', ' ', ' ', ' ', ' ', ' '], [' ', ' ', ' ', ' ', ',', '%', 'B', 'B', 'B', 'B', '%', '%', '?', '?', '?', '?', '*', '*', '*', '*', '+', '+', ';', ';', ':', ':', ':', '+', '@', '%', '+', ':', '+', '+', '+', '+', '?', '?', '*', 'B', 'B', '%', '*', ';', '+', ':', ' ', ' ', ' ', ' ', ' ', ' ', ' ', ' ', ' ', ' ', ' ', ' ', ' ', ' ', ' ', ' ', ' ', ' '], [' ', ' ', ' ', ' ', ' ', '*', '%', 'B', 'B', 'B', 'B', '%', '%', '?', '?', '?', '?', '*', '*', '*', '+', '+', '+', ';', ';', ':', ':', ':', '*', '@', '?', '+', ';', ':', ':', ':', ';', '+', '?', '*', 'B', 'B', '%', '*', ';', '+', ';', ' ', ' ', ' ', ' ', ' ', ' ', ' ', ' ', ' ', ' ', ' ', ' ', ' ', ' ', ' ', ' ', ' '], [' ', ' ', ' ', ' ', ' ', ',', '%', 'B', 'B', 'B', 'B', 'B', '%', '%', '?', '?', '?', '?', '*', '*', '*', '+', '+', '+', ';', ';', ':', ':', ':', '?', '@', '%', '*', '*', '+', '+', '+', ';', ';', '+', '*', 'B', 'B', '%', '?', '+', '+', ';', '.', ' ', ' ', ' ', ' ', ' ', ' ', ' ', ' ', ' ', ' ', ' ', ' ', ' ', ' ', ' '], [' ', ' ', ' ', ' ', ' ', ' ', '+', '%', 'B', 'B', 'B', 'B', 'B', '%', '%', '?', '?', '?', '?', '*', '*', '*', '+', '+', ';', ';', ';', ':', ':', ':', '%', '@', '#', '$', 'B', '%', '?', '+', ';', '+', '*', '%', 'B', 'B', '?', '+', '+', '+', ',', ' ', ' ', ' ', ' ', ' ', ' ', ' ', ' ', ' ', ' ', ' ', ' ', ' ', ' ', ' '], [' ', ' ', ' ', ' ', ' ', ' ', '.', '?', 'B', 'B', 'B', 'B', 'B', '%', '%', '?', '?', '?', '?', '?', '*', '*', '*', '+', '+', ';', ';', ':', ':', ':', ':', '%', '@', '#', '#', '$', 'B', 'B', '%', '+', ';', '?', '*', '%', 'B', 'B', '%', '+', '+', '+', ':', ' ', ' ', ' ', ' ', ' ', ' ', ' ', ' ', ' ', ' ', ' ', ' ', ' '], [' ', ' ', ' ', ' ', ' ', ' ', ' ', ':', '%', 'B', 'B', 'B', 'B', 'B', '%', '%', '?', '?', '?', '?', '?', '*', '*', '*', '+', '+', ';', ';', ':', ':', ':', ':', '%', '#', '#', '#', '$', '%', 'B', '?', '+', '+', '?', '*', '?', 'B', 'B', '%', '*', '+', '+', '+', '.', ' ', ' ', ' ', ' ', ' ', ' ', ' ', ' ', ' ', ' ', ' '], [' ', ' ', ' ', ' ', ' ', ' ', ' ', ' ', '*', '%', 'B', 'B', 'B', 'B', 'B', '%', '%', '?', '?', '?', '?', '?', '*', '*', '*', '+', '+', ';', ';', ':', ':', ':', ':', '?', '#', '#', '#', '$', '%', 'B', '+', ';', '?', '?', '?', '?', 'B', 'B', '%', '?', '+', '+', '+', ':', ' ', ' ', ' ', ' ', ' ', ' ', ' ', ' ', ' ', ' '], [' ', ' ', ' ', ' ', ' ', ' ', ' ', ' ', '.', '?', 'B', 'B', 'B', 'B', 'B', 'B', '%', '%', '?', '?', '?', '?', '?', '*', '*', '*', '+', '+', ';', ';', ';', ':', ':', ':', '?', '#', '#', '#', '$', '$', '*', ';', '+', '?', '?', '?', '*', 'B', 'B', 'B', '%', '*', '+', '+', '+', '.', ' ', ' ', ' ', ' ', ' ', ' ', ' ', ' '], [' ', ' ', ' ', ' ', ' ', ' ', ' ', ' ', ' ', ':', '%', 'B', 'B', 'B', 'B', 'B', 'B', '%', '%', '?', '?', '?', '?', '?', '*', '*', '*', '+', '+', ';', ';', ';', ':', ':', ':', '?', '#', '#', '#', '#', '?', '+', '+', '+', '*', '?', '?', '*', '%', 'B', 'B', '%', '?', '*', '+', '*', ':', ' ', ' ', ' ', ' ', ' ', ' ', ' '], [' ', ' ', ' ', ' ', ' ', ' ', ' ', ' ', ' ', ' ', '+', '%', 'B', 'B', 'B', 'B', 'B', 'B', '%', '%', '?', '?', '?', '?', '?', '*', '*', '*', '+', '+', ';', ';', ';', ':', ':', ':', '*', '#', '#', '#', 'B', '+', '+', '*', '+', '*', '?', '?', '*', '?', 'B', 'B', '%', '%', '*', '*', '*', ';', ' ', ' ', ' ', ' ', ' ', ' '], [' ', ' ', ' ', ' ', ' ', ' ', ' ', ' ', ' ', ' ', '.', '?', '%', 'B', 'B', 'B', 'B', 'B', '%', '%', '%', '?', '?', '?', '?', '?', '*', '*', '*', '+', '+', '+', ';', ';', ':', ':', ':', '+', '#', '#', '#', '+', ';', '?', '*', '+', '*', '?', '?', '*', '*', 'B', 'B', 'B', '%', '?', '*', '*', ';', ' ', ' ', ' ', ' ', ' '], [' ', ' ', ' ', ' ', ' ', ' ', ' ', ' ', ' ', ' ', ' ', ',', '%', 'B', 'B', 'B', 'B', 'B', 'B', '%', '%', '%', '?', '?', '?', '?', '?', '*', '*', '*', '+', '+', '+', ';', ';', ':', ':', ':', ';', '$', '@', '?', '+', '+', '%', '*', '+', '*', '?', '%', '?', '+', '%', 'B', 'B', '%', '?', '*', '*', ':', ' ', ' ', ' ', ' '], [' ', ' ', ' ', ' ', ' ', ' ', ' ', ' ', ' ', ' ', ' ', ' ', ':', '%', 'B', 'B', 'B', 'B', 'B', 'B', '%', '%', '%', '?', '?', '?', '?', '?', '*', '*', '*', '+', '+', '+', ';', ';', ':', ':', ':', ':', 'B', '#', '*', '+', '+', '?', '?', '+', '+', '*', '?', '?', '+', '?', '$', 'B', 'B', '%', '*', '*', '.', ' ', ' ', ' '], [' ', ' ', ' ', ' ', ' ', ' ', ' ', ' ', ' ', ' ', ' ', ' ', ' ', '+', '%', 'B', 'B', 'B', 'B', 'B', 'B', '%', '%', '%', '?', '?', '?', '?', '?', '*', '*', '*', '*', '+', '+', ';', ';', ';', ':', ':', ':', '?', '$', '*', '+', ';', ';', ';', ':', ':', ':', ':', ':', ';', '+', 'B', 'B', 'B', '%', '?', ':', ' ', ' ', ' '], [' ', ' ', ' ', ' ', ' ', ' ', ' ', ' ', ' ', ' ', ' ', ' ', ' ', ' ', '*', '%', 'B', 'B', 'B', 'B', 'B', 'B', '%', '%', '%', '?', '?', '?', '?', '?', '*', '*', '*', '*', '+', '+', ';', ';', ';', ':', ':', ':', '+', '$', '%', '*', '*', '+', '*', '*', '?', '?', '*', '+', ';', ';', '%', 'B', 'B', '%', ';', ' ', ' ', ' '], [' ', ' ', ' ', ' ', ' ', ' ', ' ', ' ', ' ', ' ', ' ', ' ', ' ', ' ', '.', '?', '%', 'B', 'B', 'B', 'B', 'B', 'B', '%', '%', '%', '?', '?', '?', '?', '?', '*', '*', '*', '*', '+', '+', '+', ';', ';', ':', ':', ':', ':', '%', '#', '#', '$', '$', 'B', '%', '?', '%', '%', '*', ';', ';', '*', 'B', 'B', '+', ' ', ' ', ' '], [' ', ' ', ' ', ' ', ' ', ' ', ' ', ' ', ' ', ' ', ' ', ' ', ' ', ' ', ' ', ',', '?', 'B', 'B', 'B', 'B', 'B', 'B', 'B', '%', '%', '%', '?', '?', '?', '?', '?', '?', '*', '*', '*', '+', '+', '+', ';', ';', ';', ':', ':', ':', '+', '$', '#', '#', '$', 'B', '?', '*', '*', '%', '+', ';', '?', '*', 'B', ';', ' ', ' ', ' '], [' ', ' ', ' ', ' ', ' ', ' ', ' ', ' ', ' ', ' ', ' ', ' ', ' ', ' ', ' ', ' ', ',', '?', 'B', 'B', 'B', 'B', 'B', 'B', 'B', '%', '%', '%', '?', '?', '?', '?', '?', '?', '?', '*', '*', '*', '+', '+', ';', ';', ';', ':', ':', ':', ':', '%', '#', '#', '$', 'B', '%', '*', '*', '?', ';', '*', '%', '*', '.', ' ', ' ', ' '], [' ', ' ', ' ', ' ', ' ', ' ', ' ', ' ', ' ', ' ', ' ', ' ', ' ', ' ', ' ', ' ', ' ', ':', '%', 'B', 'B', 'B', 'B', 'B', 'B', 'B', 'B', '%', '%', '?', '?', '?', '?', '?', '?', '?', '*', '*', '*', '+', '+', '+', ';', ';', ':', ':', ':', ':', '%', '#', '#', '$', '$', '%', '?', '%', '+', '*', 'B', '%', ';', ' ', ' ', ' '], [' ', ' ', ' ', ' ', ' ', ' ', ' ', ' ', ' ', ' ', ' ', ' ', ' ', ' ', ' ', ' ', ' ', ' ', ':', '?', '%', 'B', 'B', 'B', 'B', 'B', 'B', 'B', '%', '%', '%', '?', '?', '?', '?', '?', '?', '*', '*', '*', '+', '+', '+', ';', ';', ';', ':', ':', ':', 'B', '#', '#', '#', '$', 'B', '$', 'B', '%', 'B', '$', '%', '.', ' ', ' '], [' ', ' ', ' ', ' ', ' ', ' ', ' ', ' ', ' ', ' ', ' ', ' ', ' ', ' ', ' ', ' ', ' ', ' ', ' ', ':', '?', '%', 'B', 'B', 'B', 'B', 'B', 'B', 'B', '%', '%', '%', '?', '?', '?', '?', '?', '?', '?', '*', '*', '*', '+', '+', ';', ';', ';', ':', ':', ';', '#', '#', '#', '#', '$', '$', '$', 'B', '$', '$', 'B', ':', ' ', ' '], [' ', ' ', ' ', ' ', ' ', ' ', ' ', ' ', ' ', ' ', ' ', ' ', ' ', ' ', ' ', ' ', ' ', ' ', ' ', ' ', ',', '?', '%', 'B', 'B', 'B', 'B', 'B', 'B', 'B', '%', '%', '%', '?', '?', '?', '?', '?', '?', '?', '*', '*', '*', '+', '+', '+', ';', ';', ';', ':', '%', '#', '$', '#', '#', '#', '$', '$', '#', '#', '$', ';', ' ', ' '], [' ', ' ', ' ', ' ', ' ', ' ', ' ', ' ', ' ', ' ', ' ', ' ', ' ', ' ', ' ', ' ', ' ', ' ', ' ', ' ', ' ', ',', '?', '%', 'B', 'B', 'B', 'B', 'B', 'B', 'B', 'B', '%', '%', '%', '?', '?', '?', '?', '?', '?', '?', '*', '*', '+', '+', '+', ';', ';', ';', '+', '#', '$', '$', '#', '#', '#', '#', '#', '#', '#', ';', ' ', ' '], [' ', ' ', ' ', ' ', ' ', ' ', ' ', ' ', ' ', ' ', ' ', ' ', ' ', ' ', ' ', ' ', ' ', ' ', ' ', ' ', ' ', ' ', '.', '*', '%', 'B', 'B', 'B', 'B', 'B', 'B', 'B', 'B', '%', '%', '%', '?', '?', '?', '?', '?', '?', '?', '*', '*', '*', '+', '+', '+', ';', ';', '#', '$', '$', '#', '#', '#', '#', '@', '#', '$', ',', ' ', ' '], [' ', ' ', ' ', ' ', ' ', ' ', ' ', ' ', ' ', ' ', ' ', ' ', ' ', ' ', ' ', ' ', ' ', ' ', ' ', ' ', ' ', ' ', ' ', ' ', ';', '%', '%', 'B', 'B', 'B', 'B', 'B', 'B', 'B', 'B', '%', '%', '%', '?', '?', '?', '?', '?', '?', '?', '*', '*', '*', '+', '+', '+', '#', '$', '$', '#', '#', '@', '@', '@', '#', '?', ' ', ' ', ' '], [' ', ' ', ' ', ' ', ' ', ' ', ' ', ' ', ' ', ' ', ' ', ' ', ' ', ' ', ' ', ' ', ' ', ' ', ' ', ' ', ' ', ' ', ' ', ' ', ' ', ':', '?', '%', 'B', 'B', 'B', 'B', 'B', 'B', 'B', 'B', '%', '%', '%', '%', '%', '?', '?', '?', '?', '?', '?', '*', '*', '*', '*', '$', '$', '$', '#', '#', '@', '@', '#', 'B', ',', ' ', ' ', ' '], [' ', ' ', ' ', ' ', ' ', ' ', ' ', ' ', ' ', ' ', ' ', ' ', ' ', ' ', ' ', ' ', ' ', ' ', ' ', ' ', ' ', ' ', ' ', ' ', ' ', ' ', '.', '*', '%', '%', 'B', 'B', 'B', 'B', 'B', 'B', 'B', 'B', '%', '%', '%', '%', '%', '%', '?', '?', '?', '?', '?', '?', '*', '?', '%', 'B', '$', '$', '#', '$', 'B', ';', ' ', ' ', ' ', ' '], [' ', ' ', ' ', ' ', ' ', ' ', ' ', ' ', ' ', ' ', ' ', ' ', ' ', ' ', ' ', ' ', ' ', ' ', ' ', ' ', ' ', ' ', ' ', ' ', ' ', ' ', ' ', ' ', ';', '?', '%', 'B', 'B', 'B', 'B', 'B', 'B', 'B', 'B', '%', '%', '%', '%', '%', '%', '%', '%', '%', '%', '?', ',', '.', '+', '?', '%', '%', '%', '*', ':', ' ', ' ', ' ', ' ', ' '], [' ', ' ', ' ', ' ', ' ', ' ', ' ', ' ', ' ', ' ', ' ', ' ', ' ', ' ', ' ', ' ', ' ', ' ', ' ', ' ', ' ', ' ', ' ', ' ', ' ', ' ', ' ', ' ', ' ', '.', '+', '?', '%', 'B', 'B', 'B', 'B', 'B', 'B', 'B', 'B', '%', '%', '%', '%', '%', '%', '%', '%', '+', ' ', ' ', ' ', '.', ',', ',', ',', ' ', ' ', ' ', ' ', ' ', ' ', ' '], [' ', ' ', ' ', ' ', ' ', ' ', ' ', ' ', ' ', ' ', ' ', ' ', ' ', ' ', ' ', ' ', ' ', ' ', ' ', ' ', ' ', ' ', ' ', ' ', ' ', ' ', ' ', ' ', ' ', ' ', ' ', ',', '*', '%', '%', 'B', 'B', 'B', 'B', 'B', 'B', 'B', '%', '%', '%', '%', '%', '%', '*', '.', ' ', ' ', ' ', ' ', ' ', ' ', ' ', ' ', ' ', ' ', ' ', ' ', ' ', ' '], [' ', ' ', ' ', ' ', ' ', ' ', ' ', ' ', ' ', ' ', ' ', ' ', ' ', ' ', ' ', ' ', ' ', ' ', ' ', ' ', ' ', ' ', ' ', ' ', ' ', ' ', ' ', ' ', ' ', ' ', ' ', ' ', ' ', ':', '*', '?', '%', '%', '%', 'B', 'B', 'B', '%', '%', '%', '%', '%', '+', '.', ' ', ' ', ' ', ' ', ' ', ' ', ' ', ' ', ' ', ' ', ' ', ' ', ' ', ' ', ' '], [' ', ' ', ' ', ' ', ' ', ' ', ' ', ' ', ' ', ' ', ' ', ' ', ' ', ' ', ' ', ' ', ' ', ' ', ' ', ' ', ' ', ' ', ' ', ' ', ' ', ' ', ' ', ' ', ' ', ' ', ' ', ' ', ' ', ' ', ' ', ',', '+', '*', '?', '%', '%', '%', '%', '%', '?', '+', ',', ' ', ' ', ' ', ' ', ' ', ' ', ' ', ' ', ' ', ' ', ' ', ' ', ' ', ' ', ' ', ' ', ' '], [' ', ' ', ' ', ' ', ' ', ' ', ' ', ' ', ' ', ' ', ' ', ' ', ' ', ' ', ' ', ' ', ' ', ' ', ' ', ' ', ' ', ' ', ' ', ' ', ' ', ' ', ' ', ' ', ' ', ' ', ' ', ' ', ' ', ' ', ' ', ' ', ' ', ' ', '.', ',', ':', ';', ':', ',', '.', ' ', ' ', ' ', ' ', ' ', ' ', ' ', ' ', ' ', ' ', ' ', ' ', ' ', ' ', ' ', ' ', ' ', ' ', ' '], [' ', ' ', ' ', ' ', ' ', ' ', ' ', ' ', ' ', ' ', ' ', ' ', ' ', ' ', ' ', ' ', ' ', ' ', ' ', ' ', ' ', ' ', ' ', ' ', ' ', ' ', ' ', ' ', ' ', ' ', ' ', ' ', ' ', ' ', ' ', ' ', ' ', ' ', ' ', ' ', ' ', ' ', ' ', ' ', ' ', ' ', ' ', ' ', ' ', ' ', ' ', ' ', ' ', ' ', ' ', ' ', ' ', ' ', ' ', ' ', ' ', ' ', ' ', ' '], [' ', ' ', ' ', ' ', ' ', ' ', ' ', ' ', ' ', ' ', ' ', ' ', ' ', ' ', ' ', ' ', ' ', ' ', ' ', ' ', ' ', ' ', ' ', ' ', ' ', ' ', ' ', ' ', ' ', ' ', ' ', ' ', ' ', ' ', ' ', ' ', ' ', ' ', ' ', ' ', ' ', ' ', ' ', ' ', ' ', ' ', ' ', ' ', ' ', ' ', ' ', ' ', ' ', ' ', ' ', ' ', ' ', ' ', ' ', ' ', ' ', ' ', ' ', ' ']]\n"
     ]
    }
   ],
   "source": [
    "# Compute the histogram with 10 bins\n",
    "hist, bin_edges = np.histogram(gscale_dscale_image_array, bins=13)\n",
    "\n",
    "# Print the bin edges\n",
    "#print(\"Bin edges:\", bin_edges)\n",
    "# Insert the new element at the beginning of the array\n",
    "#bin_edges = np.insert(bin_edges, 0, 0)\n",
    "\n",
    "# Converting the string to a list\n",
    "# FULL_ASCII_CHARS = ['$', '@', 'B', '%', '8', '&', 'W', 'M', '#', '*', 'o', 'a', 'h', 'k', 'b', 'd', 'p', 'q', 'w', 'm', 'Z', 'O', '0', 'Q', 'L', 'C', 'J', 'U', 'Y', 'X', 'z', 'c', 'v', 'u', 'n', 'x', 'r', 'j', 'f', 't', '/', '\\\\', '|', '(', ')', '1', '{', '}', '[', ']', '?', '-', '_', '+', '~', '<', '>', 'i', '!', 'l', 'I', ';', ':', ',', '^', '`', \"'\", '.']\n",
    "FULL_ASCII_CHARS = [\"@\", \"#\", \"$\", 'B', \"%\", \"?\", \"*\", \"+\", ';', \":\", \",\", \".\", \" \"]\n",
    "print(bin_edges)\n",
    "print(len(FULL_ASCII_CHARS))\n",
    "\n",
    "ascii_image = []\n",
    "\n",
    "for i in range(len(gscale_dscale_image_array)):\n",
    "    ascii_image_line = []\n",
    "    for j in range(len(gscale_dscale_image_array[i])):\n",
    "        for k in range(len(bin_edges)-1):\n",
    "            if(gscale_dscale_image_array[i][j] == bin_edges[k+1]):\n",
    "                ascii_image_line.append(FULL_ASCII_CHARS[k])\n",
    "                \n",
    "            elif(gscale_dscale_image_array[i][j] > bin_edges[k] and gscale_dscale_image_array[i][j] < bin_edges[k+1]):\n",
    "                ascii_image_line.append(FULL_ASCII_CHARS[k])\n",
    "    \n",
    "    x_difference = x - len(ascii_image_line)\n",
    "    for l in range(x_difference):\n",
    "        ascii_image_line.append(\" \")\n",
    "    \n",
    "    ascii_image.append(ascii_image_line)\n",
    "    ascii_image_line = []\n",
    "\n",
    "#print(ascii_image)\n",
    "print(ascii_image)\n"
   ]
  },
  {
   "cell_type": "code",
   "execution_count": 115,
   "id": "b315eeb3",
   "metadata": {},
   "outputs": [
    {
     "name": "stdout",
     "output_type": "stream",
     "text": [
      "                                                                \n",
      "                                                                \n",
      "            .:;:.                                               \n",
      "          .*BBB%%;                                              \n",
      "         ,%$$B%*??;                                             \n",
      "        .%$#$B?+;+:;  .                                         \n",
      "        +$##$$%*++:*;?*+;.                                      \n",
      "        ?$###$$%*;;?*%B?**:                                     \n",
      "       .?#####$B?+;??+BB?**;                                    \n",
      "       .?$#$$$$$%+;+?**BB?**:                                   \n",
      "        +B###$$$B+;+*?+%B%?+*,                                  \n",
      "       :;;::+B##$?;;+??+BB%?++.                                 \n",
      "     ,+++;::,:?##B+;++??*BB%*+;                                 \n",
      "    ,***++;:::,?##?+;;*?*?B%?++,                                \n",
      "   .*??*++;;::,,%##?+;;*?+%B%?++.                               \n",
      "   ;%??**++;;::,:$##?+;;;*+BB%*+;                               \n",
      "   ?%%??**++;:::,+###$?++;+*B%%++;                              \n",
      "  ,%%%???*+++;:::,%##$#$?+;;?B%?++:                             \n",
      "  ;%%%%??**++;;::::$#$B%$B+;;%B%?++,                            \n",
      "  +%%%%???**++;;:::+##$B?%B+;;BB%*++.                           \n",
      "  +%B%%???***++;;:::?##$%*%%+;*BB%++;                           \n",
      "  +BB%%%???**+++;::::B##$%*B+;*?$B?++;                          \n",
      "  ;%BB%%???***++;;::::$#$B?%*;**?BB?++:                         \n",
      "  :%BB%%????***++;;:::;##$B%*;+?*%B%?;+,                        \n",
      "  .%BBB%%????**+++;;:::*##$B?;;*?*%B%*++,                       \n",
      "   ?BBBB%%???***+++;;:::%##$?+;+*?*BB%*++,                      \n",
      "   ;%BBB%%????***++;;::::B##%+;++??*BB%*++,                     \n",
      "   .%BBBB%%????***++;;::::$#$+;*++??*BB%*;+,                    \n",
      "    *%BBBB%%????***++;;:::;##+;**++??*BB%*;+,                   \n",
      "    ,%BBBB%%????****++;;:::+@%+:++++??*BB%*;+:                  \n",
      "     *%BBBB%%????***+++;;:::*@?+;:::;+?*BB%*;+;                 \n",
      "     ,%BBBBB%%????***+++;;:::?@%**+++;;+*BB%?++;.               \n",
      "      +%BBBBB%%????***++;;;:::%@#$B%?+;+*%BB?+++,               \n",
      "      .?BBBBB%%?????***++;;::::%@##$BB%+;?*%BB%+++:             \n",
      "       :%BBBBB%%?????***++;;::::%###$%B?++?*?BB%*+++.           \n",
      "        *%BBBBB%%?????***++;;::::?###$%B+;????BB%?+++:          \n",
      "        .?BBBBBB%%?????***++;;;:::?###$$*;+???*BBB%*+++.        \n",
      "         :%BBBBBB%%?????***++;;;:::?####?+++*??*%BB%?*+*:       \n",
      "          +%BBBBBB%%?????***++;;;:::*###B++*+*??*?BB%%***;      \n",
      "          .?%BBBBB%%%?????***+++;;:::+###+;?*+*??**BBB%?**;     \n",
      "           ,%BBBBBB%%%?????***+++;;:::;$@?++%*+*?%?+%BB%?**:    \n",
      "            :%BBBBBB%%%?????***+++;;::::B#*++??++*??+?$BB%**.   \n",
      "             +%BBBBBB%%%?????****++;;;:::?$*+;;;:::::;+BBB%?:   \n",
      "              *%BBBBBB%%%?????****++;;;:::+$%**+**??*+;;%BB%;   \n",
      "              .?%BBBBBB%%%?????****+++;;::::%##$$B%?%%*;;*BB+   \n",
      "               ,?BBBBBBB%%%??????***+++;;;:::+$##$B?**%+;?*B;   \n",
      "                ,?BBBBBBB%%%???????***++;;;::::%##$B%**?;*%*.   \n",
      "                 :%BBBBBBBB%%???????***+++;;::::%##$$%?%+*B%;   \n",
      "                  :?%BBBBBBB%%%??????***+++;;;:::B###$B$B%B$%.  \n",
      "                   :?%BBBBBBB%%%???????***++;;;::;####$$$B$$B:  \n",
      "                    ,?%BBBBBBB%%%???????***+++;;;:%#$###$$##$;  \n",
      "                     ,?%BBBBBBBB%%%???????**+++;;;+#$$#######;  \n",
      "                      .*%BBBBBBBB%%%???????***+++;;#$$####@#$,  \n",
      "                        ;%%BBBBBBBB%%%???????***+++#$$##@@@#?   \n",
      "                         :?%BBBBBBBB%%%%%??????****$$$##@@#B,   \n",
      "                          .*%%BBBBBBBB%%%%%%??????*?%B$$#$B;    \n",
      "                            ;?%BBBBBBBB%%%%%%%%%%?,.+?%%%*:     \n",
      "                             .+?%BBBBBBBB%%%%%%%%+   .,,,       \n",
      "                               ,*%%BBBBBBB%%%%%%*.              \n",
      "                                 :*?%%%BBB%%%%%+.               \n",
      "                                   ,+*?%%%%%?+,                 \n",
      "                                      .,:;:,.                   \n",
      "                                                                \n",
      "                                                                \n"
     ]
    }
   ],
   "source": [
    "# Iterate through the rows in ascii_image\n",
    "for row in ascii_image:\n",
    "    # Convert the elements to strings and join them without spaces\n",
    "    line_of_text = \"\".join(map(str, row))\n",
    "    # Print each line\n",
    "    print(line_of_text)"
   ]
  },
  {
   "cell_type": "code",
   "execution_count": 116,
   "id": "dcaa8a31",
   "metadata": {},
   "outputs": [],
   "source": [
    "# define number for the message.txt file\n",
    "\n",
    "folder_path = 'output-msgs'\n",
    "\n",
    "num_of_files = len(os.listdir(folder_path))\n",
    "\n",
    "message_filename = \"message-\" + str(num_of_files)\n",
    "\n",
    "message_filepath = os.path.join(folder_path, message_filename)\n",
    "\n",
    "with open(message_filepath, 'w') as file:\n",
    "    # Iterate through the rows in ascii_image\n",
    "    for row in ascii_image:\n",
    "        # Convert the elements to strings and join them without spaces\n",
    "        line_of_text = \"\".join(map(str, row))\n",
    "        # Print each line\n",
    "        file.write(line_of_text + '\\n')"
   ]
  },
  {
   "cell_type": "markdown",
   "id": "83fb4de6",
   "metadata": {},
   "source": [
    "# Decoding Ascii"
   ]
  },
  {
   "cell_type": "markdown",
   "id": "65dc9b03",
   "metadata": {},
   "source": [
    "## Import Message File"
   ]
  },
  {
   "cell_type": "code",
   "execution_count": 117,
   "id": "b8d6aed4",
   "metadata": {},
   "outputs": [
    {
     "name": "stdout",
     "output_type": "stream",
     "text": [
      "[[' ', ' ', ' ', ' ', ' ', ' ', ' ', ' ', ' ', ' ', ' ', ' ', ' ', ' ', ' ', ' ', ' ', ' ', ' ', ' ', ' ', ' ', ' ', ' ', ' ', ' ', ' ', ' ', ' ', ' ', ' ', ' ', ' ', ' ', ' ', ' ', ' ', ' ', ' ', ' ', ';', ' ', ' ', ' ', ' ', ' ', ' ', ' ', ' ', ' ', ' ', ' ', ' ', ' ', ' ', ' ', ' ', ' ', ' ', ' ', ' ', ' ', ' ', ' '], [' ', ' ', ' ', ' ', ' ', ' ', ' ', ' ', ' ', ' ', ' ', ' ', ' ', ' ', ' ', ' ', ' ', ' ', ' ', ' ', ' ', ' ', ' ', ' ', ' ', ' ', ' ', ' ', ' ', ' ', ' ', ' ', ' ', ' ', ' ', ' ', ' ', ' ', ' ', '*', '@', ';', ' ', ' ', ' ', ' ', ' ', ' ', ' ', ' ', ' ', ' ', ' ', ' ', ' ', ' ', ' ', ' ', ' ', ' ', ' ', ' ', ' ', ' '], [' ', ' ', ' ', ' ', ' ', ' ', ' ', ' ', ' ', ' ', ' ', ' ', ' ', ' ', ' ', ' ', ' ', ' ', ' ', ' ', ' ', ' ', ' ', ' ', ' ', ' ', ' ', ' ', ' ', ' ', ' ', ' ', ' ', ' ', ' ', ' ', ' ', ' ', ';', '@', '#', '?', ' ', ' ', ' ', ' ', ' ', ' ', ' ', ' ', ' ', ' ', ' ', ' ', ' ', ' ', ' ', ' ', ' ', ' ', ' ', ' ', ' ', ' '], [' ', ' ', ' ', ' ', ' ', ' ', ' ', ' ', ' ', ' ', ' ', ' ', ' ', ' ', ' ', ' ', ' ', ' ', ' ', ' ', ' ', ' ', ' ', ' ', ' ', ' ', ' ', ' ', ' ', ' ', ' ', ' ', ' ', ' ', ' ', ' ', ' ', '.', '#', '#', '#', '$', ' ', ' ', ' ', ' ', ' ', ' ', ' ', ' ', ' ', ' ', ' ', ' ', ' ', ' ', ' ', ' ', ' ', ' ', ' ', ' ', ' ', ' '], [' ', ' ', '+', ';', ',', ' ', ' ', ' ', ' ', ' ', ' ', ' ', ' ', ' ', ' ', ' ', ' ', ' ', ' ', ' ', ' ', ' ', ' ', ' ', ' ', ' ', ' ', ' ', ' ', ' ', ' ', ' ', ' ', ' ', ' ', ' ', ' ', '*', '@', '#', '#', '$', ' ', ' ', ' ', ' ', ' ', ' ', ' ', ' ', ' ', ' ', ' ', ' ', ' ', ' ', ' ', ' ', ' ', ' ', ' ', ' ', ' ', ' '], [' ', ',', '@', '#', '@', '@', '%', '+', ' ', ' ', ' ', ' ', ' ', ' ', ' ', ' ', ' ', ' ', ' ', ' ', ' ', ' ', ' ', ' ', ' ', ' ', ' ', ' ', ' ', ' ', ' ', ' ', ' ', ' ', ' ', ' ', '.', '#', '#', '#', '#', '#', ' ', ' ', ' ', ' ', ' ', ' ', ' ', ' ', ' ', ' ', ' ', ' ', ' ', ' ', ' ', ' ', ' ', ' ', ' ', ' ', ' ', ' '], [' ', ',', 'B', '@', '#', '#', '#', '#', '@', '%', ':', ' ', ' ', ' ', ' ', ' ', ' ', ' ', ' ', ' ', ' ', ' ', ' ', ' ', ' ', ' ', ' ', ' ', ' ', ' ', ' ', ' ', ' ', ' ', ' ', ' ', '+', '$', '$', '#', '#', '#', ' ', ' ', ' ', ' ', ' ', ' ', ' ', ' ', ' ', ' ', ' ', ' ', ' ', ' ', ' ', ' ', ' ', ' ', ' ', ' ', ' ', ' '], [' ', ' ', '+', '#', '@', '#', '#', '#', '#', '*', '%', '$', '+', ' ', ' ', ' ', ' ', ' ', ' ', ' ', ' ', ' ', ' ', ' ', ' ', ' ', ' ', ' ', ' ', ' ', ' ', ' ', ' ', ' ', ' ', '.', 'B', '+', ';', '$', '#', '#', ' ', ' ', ' ', ' ', ' ', ' ', ' ', ' ', ' ', ' ', ' ', ' ', ' ', ' ', ' ', ' ', ' ', ' ', ' ', ' ', ' ', ' '], [' ', ' ', '.', '*', '@', '@', '#', '#', '#', '+', ';', ';', '?', '$', '+', ' ', ' ', ' ', ' ', ' ', ' ', ' ', ' ', ' ', ' ', ' ', ' ', ' ', ' ', ' ', ' ', ' ', ' ', ' ', ' ', ',', '#', ';', ';', '+', '#', '$', ' ', ' ', ' ', ' ', ' ', ' ', ' ', ' ', ' ', ' ', ' ', ' ', ' ', ' ', ' ', ' ', ' ', ' ', ' ', ' ', ' ', ' '], [' ', ' ', ' ', ',', '?', '@', '#', '#', '#', '+', ';', ';', ';', ';', '%', '$', ':', ' ', ' ', ' ', ' ', ' ', ' ', ' ', ' ', ' ', ' ', ' ', ' ', ' ', ' ', ' ', ' ', ' ', ' ', '+', 'B', ';', ';', ';', '?', '$', ' ', ' ', ' ', ' ', ' ', ' ', ' ', ' ', ' ', ' ', ' ', ' ', ' ', ' ', ' ', ' ', ' ', ' ', ' ', ' ', ' ', ' '], [' ', ' ', ' ', ' ', ',', '?', '@', '@', '#', '*', ';', ';', ';', ';', ';', ';', '$', '*', ' ', ' ', ' ', ' ', ' ', ' ', ' ', ' ', ' ', ' ', ' ', ' ', ' ', ' ', ' ', ' ', '.', 'B', '*', ';', ';', ';', ';', 'B', ' ', ' ', ' ', ' ', ' ', ' ', ' ', ' ', ' ', ' ', ' ', ' ', ' ', ' ', ' ', ' ', ' ', ' ', ' ', ' ', ' ', ' '], [' ', ' ', ' ', ' ', ' ', ',', '*', '#', '@', 'B', '+', ';', ';', ';', ';', ';', ';', '?', '$', '.', ' ', ' ', ' ', ' ', ' ', ' ', ' ', ' ', ' ', ' ', ' ', ' ', ' ', ' ', ',', '$', ';', ';', ';', ';', '+', '?', ' ', ' ', ' ', ' ', ' ', ' ', ' ', ' ', ' ', ' ', ' ', ' ', ' ', ' ', ' ', ' ', ' ', ' ', ' ', ' ', ' ', ' '], [' ', ' ', ' ', ' ', ' ', ' ', '.', '+', '#', '#', '+', '+', ';', ';', ';', ';', ';', ';', '+', '$', ',', ' ', ' ', ' ', ' ', ' ', ' ', ' ', ' ', ' ', ' ', ' ', ' ', ' ', ':', '#', ';', ';', ';', ';', '*', '*', ' ', ' ', ' ', ' ', ' ', ' ', ' ', ' ', ' ', ' ', ' ', ' ', ' ', ' ', ' ', ' ', ' ', ' ', ' ', ' ', ' ', ' '], [' ', ' ', ' ', ' ', ' ', ' ', ' ', '.', ';', 'B', '#', '?', '+', '+', ';', ';', ';', ';', ';', ';', '$', ',', ' ', '.', ',', ',', '.', ' ', ' ', ' ', ' ', ' ', ' ', ' ', '*', 'B', ';', ';', ';', ';', '%', ';', ' ', ' ', ' ', ' ', ' ', ' ', ' ', ' ', ' ', ' ', ' ', ' ', ' ', ' ', ' ', ' ', ' ', ' ', ' ', ' ', ' ', ' '], [' ', ' ', ' ', ' ', ' ', ' ', ' ', ' ', ' ', ':', '?', '#', '$', '*', '+', '+', ';', ';', ';', ';', '+', '$', '$', 'B', '%', '%', '$', '$', 'B', '*', '.', ' ', ' ', ' ', '%', '?', ';', ';', ';', ';', '$', '.', ' ', ' ', ' ', ' ', ' ', ' ', ' ', ' ', ' ', ' ', ' ', ' ', ' ', ' ', ' ', ' ', ' ', ' ', ' ', ' ', ' ', ' '], [' ', ' ', ' ', ' ', ' ', ' ', ' ', ' ', ' ', ' ', '.', ';', 'B', '@', '%', '*', '+', ';', ';', ';', ';', ';', ';', ';', ';', ';', ';', ';', ';', '*', 'B', 'B', ',', '.', 'B', '*', ';', ';', ';', ';', '$', ' ', ' ', ' ', ' ', ' ', ' ', ' ', ' ', ' ', ' ', ' ', ' ', ' ', ' ', ' ', ' ', ' ', ' ', ' ', ' ', ' ', ' ', ' '], [' ', ' ', ' ', ' ', ' ', ' ', ' ', ' ', ' ', ' ', ' ', ' ', ',', '+', 'B', '#', '$', '?', '*', ';', ';', ';', ';', ';', ';', ';', ';', ';', ';', ';', ';', '+', 'B', 'B', '#', '+', ';', ';', ';', '*', '%', ' ', ' ', ' ', ' ', ' ', ' ', ' ', ' ', ' ', ' ', ' ', ' ', ' ', ' ', ' ', ' ', ' ', ' ', ' ', ' ', ' ', ' ', ' '], [' ', ' ', ' ', ' ', ' ', ' ', ' ', ' ', ' ', ' ', ' ', ' ', ' ', ' ', ',', ';', '?', '@', '+', ';', ';', ';', ';', ';', ';', ';', ';', ';', ';', ';', ';', ';', ';', '*', '@', '+', ';', ';', ';', '?', '+', ' ', ' ', ' ', ' ', ' ', ' ', ' ', ' ', ' ', ' ', ' ', ' ', ' ', ' ', ' ', ' ', ' ', ' ', ' ', ' ', ' ', ' ', ' '], [' ', ' ', ' ', ' ', ' ', ' ', ' ', ' ', ' ', ' ', ' ', ' ', ' ', ' ', ' ', ' ', '%', '?', ';', ';', ';', ';', ';', ';', ';', ';', ';', ';', ';', ';', ';', ';', ';', ';', '+', '*', ';', ';', '+', '$', '.', ' ', ' ', ' ', ' ', ' ', ' ', ' ', ' ', ' ', ' ', ' ', ' ', ' ', ' ', ' ', ' ', ' ', ' ', ' ', ' ', ' ', ' ', ' '], [' ', ' ', ' ', ' ', ' ', ' ', ' ', ' ', ' ', ' ', ' ', ' ', ' ', ' ', ' ', ',', '$', ';', ';', ';', ';', ';', ';', ';', ';', ';', ';', ';', ';', ';', ';', ';', ';', ';', ';', '+', '+', ';', '*', 'B', ' ', ' ', ' ', ' ', ' ', ' ', ' ', ' ', ' ', ' ', ' ', ' ', ' ', ' ', ' ', ' ', ' ', ' ', ' ', ' ', ' ', ' ', ' ', ' '], [' ', ' ', ' ', ' ', ' ', ' ', ' ', ' ', ' ', ' ', ' ', ' ', ' ', ' ', ' ', '%', '?', ';', ';', '?', '?', ';', ';', ';', ';', ';', ';', ';', ';', ';', ';', ';', ';', ';', ';', ';', ';', '+', '%', '+', ' ', ' ', ' ', ' ', ' ', ' ', ' ', ' ', ' ', ' ', ' ', ' ', ' ', ' ', ' ', ' ', ' ', ' ', ' ', ' ', ' ', ' ', ' ', ' '], [' ', ' ', ' ', ' ', ' ', ' ', ' ', ' ', ' ', ' ', ' ', ' ', ' ', ' ', ',', '#', ';', ';', 'B', 'B', ' ', '*', ';', ';', ';', ';', ';', ';', ';', ';', ';', ';', ';', ';', ';', ';', ';', '+', '$', ' ', ' ', ' ', ' ', ' ', ' ', ' ', ' ', ' ', ' ', ' ', ' ', ' ', ' ', ' ', ' ', ' ', ' ', ' ', ' ', ' ', ' ', ' ', ' ', ' '], [' ', ' ', ' ', ' ', ' ', ' ', ' ', ' ', ' ', ' ', ' ', ' ', ' ', ' ', '+', 'B', ';', ';', '#', '#', '?', 'B', ';', ';', ';', ';', ';', ';', ';', ';', ';', ';', ';', ';', ';', ';', ';', '%', ';', ' ', ' ', ' ', ' ', ' ', ' ', ' ', ' ', ' ', ' ', ' ', ' ', ' ', ' ', ' ', ' ', ' ', ' ', ' ', ' ', ' ', ' ', ' ', ' ', ' '], [' ', ' ', ' ', ' ', ' ', ' ', ' ', ' ', ' ', ' ', ' ', ' ', ' ', '.', '$', '*', ';', ';', '%', '#', '#', '+', ';', ';', ';', ';', ';', ';', ';', ';', ';', ';', ';', ';', ';', ';', ';', '?', ';', ' ', ' ', ' ', ' ', ' ', ' ', ' ', ' ', ' ', ' ', ' ', ' ', ' ', ' ', ' ', ' ', ' ', ' ', ' ', ' ', ' ', ' ', ' ', ' ', ' '], [' ', ' ', ' ', ' ', ' ', ' ', ' ', ' ', ' ', ' ', ' ', ' ', ' ', '?', 'B', '?', '+', ';', ';', ';', ';', ';', ';', ';', ';', '+', ';', ';', ';', ';', ';', '*', '+', '?', ';', ';', ';', '%', ':', ' ', ' ', ' ', ' ', ' ', ' ', ' ', ' ', ' ', ' ', ' ', ' ', ' ', ' ', ' ', ' ', ' ', ' ', ' ', ' ', ' ', ' ', ' ', ' ', ' '], [' ', ' ', ' ', ' ', ' ', ' ', ' ', ' ', ' ', ' ', ' ', ' ', ',', '#', '?', '?', '*', ';', ';', ';', ';', ';', ';', ';', ';', '+', ';', ';', ';', ';', ';', '$', '.', '%', '?', ';', ';', '$', '.', ' ', ' ', ' ', ' ', ' ', ' ', ' ', ' ', ' ', ' ', ' ', ' ', ' ', ' ', ' ', ' ', ' ', ' ', ' ', ' ', ' ', ' ', ' ', ' ', ' '], [' ', ' ', ' ', ' ', ' ', ' ', ' ', ' ', ' ', ' ', ' ', ' ', '?', 'B', '?', '?', '*', ';', ';', ';', ';', '*', '*', '?', '%', '%', ';', ';', ';', ';', ';', '#', '#', '#', '?', ';', ';', 'B', ' ', ' ', ' ', ' ', ' ', ' ', ' ', ' ', ' ', ' ', ' ', ' ', ' ', ' ', ' ', ' ', ' ', ' ', ' ', ' ', ' ', ' ', ' ', ' ', ' ', ' '], [' ', ' ', ' ', ' ', ' ', ' ', ' ', ' ', ' ', ' ', ' ', '.', '%', 'B', '?', '?', '*', ';', ';', ';', ';', '*', '$', 'B', '$', '$', 'B', '+', ';', ';', ';', '*', '$', '$', ';', ';', '+', '?', ' ', ' ', ' ', ' ', ' ', ' ', ' ', ' ', ' ', ' ', ' ', ' ', ' ', ' ', ' ', ' ', ' ', ' ', ' ', ' ', ' ', ' ', ' ', ' ', ' ', ' '], [' ', ' ', ' ', ' ', ' ', ' ', ' ', ' ', ' ', ' ', ' ', '.', '%', '$', '?', '?', '+', ';', ';', ';', ';', '?', '%', '?', '?', '%', 'B', '$', 'B', '+', ';', ';', ';', ';', ';', ';', '?', ';', ' ', ' ', ' ', ' ', ' ', ' ', ' ', ' ', ' ', ' ', ' ', ' ', ' ', ' ', ' ', ' ', ' ', ' ', ' ', ' ', ' ', ' ', ' ', ' ', ' ', ' '], [' ', ' ', ' ', ' ', ' ', ' ', ' ', ' ', ' ', ' ', ' ', ' ', '*', '#', '?', '*', ';', ';', ';', ';', ';', '*', '+', '+', '+', '+', '?', 'B', '?', ';', ';', ';', ';', ';', ';', ';', 'B', ',', ' ', ',', '+', '?', '?', '?', ' ', ' ', ' ', ' ', ' ', ' ', ' ', ' ', ' ', ' ', ' ', ' ', ' ', ' ', ' ', ' ', ' ', ' ', ' ', ' '], [' ', ' ', ' ', ' ', ' ', ' ', ' ', ' ', ' ', ' ', ' ', ' ', ';', '#', '+', ';', ';', ';', ';', ';', ';', '*', '+', '+', '+', '+', '+', '%', ';', ';', ';', ';', ';', ';', '*', '?', '#', '?', '$', 'B', '*', '+', '+', '%', ';', ' ', ' ', ' ', ' ', ' ', ' ', ' ', ' ', ' ', ' ', ' ', ' ', ' ', ' ', ' ', ' ', ' ', ' ', ' '], [' ', ' ', ' ', ' ', ' ', ' ', ' ', ' ', ' ', ' ', ' ', ' ', ',', 'B', '%', ';', ';', ';', ';', ';', ';', '*', '+', '+', '+', '+', '+', '+', ';', ';', ';', ';', ';', '?', '?', '?', 'B', '*', ';', ';', ';', ';', ';', '*', '$', ';', ' ', ' ', ' ', ' ', ' ', ' ', ' ', ' ', ' ', ' ', ' ', ' ', ' ', ' ', ' ', ' ', ' ', ' '], [' ', ' ', ' ', ' ', ' ', ' ', ' ', ' ', ' ', ' ', ' ', ' ', ';', '%', '@', ';', ';', ';', ';', ';', ';', '+', '+', '+', '+', '+', '*', ';', ';', ';', ';', ';', '*', '?', '?', '?', '*', ';', ';', ';', ';', ';', ';', ';', 'B', ';', ' ', ' ', ' ', ' ', ' ', ' ', ' ', ' ', ' ', ' ', ' ', ' ', ' ', ' ', ' ', ' ', ' ', ' '], [' ', ' ', ' ', ' ', ' ', ' ', ' ', ' ', ' ', ',', '%', '$', '%', '?', '?', '*', '+', '+', ';', ';', ';', ';', '*', '+', '+', '?', ';', ';', ';', ';', ';', ';', '?', '?', '*', '?', ';', ';', ';', ';', ';', ';', ';', '+', '$', ' ', ' ', ' ', ' ', ' ', ' ', ' ', ' ', ' ', ' ', ' ', ' ', ' ', ' ', ' ', ' ', ' ', ' ', ' '], [' ', ' ', ' ', ' ', ' ', ' ', ' ', ' ', ':', '$', '+', ';', ';', ';', ';', ';', ';', ';', '*', '*', ';', ';', '+', '*', '*', ';', ';', ';', ';', ';', ';', ';', '?', '?', '?', '+', ';', ';', ';', ';', ';', ';', '?', 'B', '%', ';', ':', '.', ' ', ' ', ' ', ' ', ' ', ' ', ' ', ' ', ' ', ' ', ' ', ' ', ' ', ' ', ' ', ' '], [' ', ' ', ' ', ' ', ' ', ' ', ' ', '.', '$', ';', ';', ';', ';', ';', ';', ';', ';', ';', ';', ';', '*', '+', ';', ';', ';', ';', ';', ';', ';', ';', ';', ';', '*', '%', '*', ';', ';', ';', ';', ';', ';', '+', '*', '*', '*', '?', '%', 'B', '$', 'B', '%', '*', ':', ' ', ' ', ' ', ' ', ' ', ' ', ' ', ' ', ' ', ' ', ' '], [' ', ' ', ' ', ' ', ' ', ' ', ' ', '+', '%', ';', ';', ';', ';', ';', ';', ';', ';', ';', ';', ';', ';', '+', '+', ';', ';', ';', ';', ';', ';', ';', ';', ';', '*', '+', ';', ';', ';', ';', ';', ';', ';', '*', ';', ';', ';', ';', ';', ';', ';', ';', ';', '*', '%', '$', 'B', '?', ':', ' ', ' ', ' ', ' ', ' ', ' ', ' '], [' ', ' ', ' ', ' ', ' ', ' ', '.', '%', '?', ';', ';', ';', ';', ';', ';', ';', ';', ';', ';', ';', ';', ';', '?', '+', '+', ';', ';', ';', ';', '+', '*', '+', ';', ';', ';', ';', ';', ';', ';', '+', '?', ';', ';', ';', ';', ';', ';', ';', ';', ';', ';', ';', ';', ';', ';', '+', '%', '$', '%', ':', ' ', ' ', ' ', ' '], [' ', ' ', ' ', ' ', ' ', ' ', '.', '%', 'B', ';', ';', ';', ';', ';', ';', ';', ';', ';', ';', ';', ';', '+', '*', '+', '+', '+', ';', ';', ';', ';', ';', ';', ';', ';', ';', ';', ';', ';', '+', '%', '+', ';', ';', ';', ';', ';', ';', ';', ';', ';', ';', ';', ';', ';', ';', ';', ';', ';', '+', '%', '$', '*', ' ', ' '], [' ', ' ', ' ', ' ', ' ', ' ', ' ', '+', '#', '+', '+', ';', ';', ';', ';', ';', ';', ';', ';', ';', ';', '?', ';', ';', ';', ';', ';', ';', ';', ';', ';', ';', ';', ';', ';', ';', '+', '+', 'B', ';', ';', '+', ';', ';', ';', ';', ';', ';', ';', ';', ';', ';', ';', ';', ';', ';', ';', ';', ';', ';', '*', '#', ' ', ' '], [' ', ' ', ' ', ' ', ' ', ' ', ' ', ',', 'B', '#', '*', '+', '+', '*', '+', '+', '+', '+', '+', '?', '*', '+', ';', ';', ';', ';', ';', ';', ';', ';', ';', ';', ';', ';', '+', '+', '+', 'B', 'B', '#', ';', ';', '+', '+', '+', ';', ';', ';', ';', ';', ';', ';', ';', ';', ';', ';', ';', ';', ';', ';', ';', '?', '?', ' '], [' ', ' ', ' ', ' ', ' ', ' ', ' ', ' ', ':', 'B', '#', '%', '*', '*', '+', '*', '*', '*', '+', ';', ';', ';', ';', ';', ';', ';', ';', ';', ';', ';', ';', ';', ';', '+', '+', '*', '$', '+', '+', 'B', ';', '+', '+', '+', '+', '+', '+', ';', ';', ';', ';', ';', ';', ';', ';', ';', ';', ';', ';', ';', '%', '?', ' ', ' '], [' ', ' ', ' ', ' ', ' ', ' ', ' ', ' ', ' ', ',', '*', '@', '*', '+', '+', '+', ';', ';', ';', ';', ';', ';', ';', ';', ';', ';', ';', ';', ';', ';', ';', ';', '+', '+', '?', '$', ':', ' ', '%', '?', ';', '+', '+', '+', '+', '+', '+', '+', ';', ';', ';', ';', ';', ';', ';', ';', ';', ';', ';', '%', '?', ' ', ' ', ' '], [' ', ' ', ' ', ' ', ' ', ' ', ' ', ' ', ' ', ' ', ',', '#', ';', ';', ';', ';', ';', ';', ';', ';', ';', ';', ';', ';', ';', ';', ';', ';', ';', ';', ';', ';', '*', 'B', 'B', '.', ' ', '.', '$', '+', ';', '+', '+', '+', '+', '+', '+', '+', '+', '+', ';', ';', ';', ';', ';', ';', ';', ';', '%', '?', ' ', ' ', ' ', ' '], [' ', ' ', ' ', ' ', ' ', ' ', ' ', ' ', ' ', ' ', ';', 'B', ';', ';', ';', ';', ';', ';', ';', ';', ';', ';', ';', ';', ';', ';', ';', ';', ';', ';', ';', ';', '+', 'B', ' ', ' ', ' ', ',', '#', ';', ';', '+', '+', '?', 'B', '?', '+', '+', '+', '+', '+', ';', ';', ';', ';', ';', ';', '%', '?', ' ', ' ', ' ', ' ', ' '], [' ', ' ', ' ', ' ', ' ', ' ', ' ', ' ', ' ', ' ', '%', '*', ';', ';', ';', ';', ';', ';', ';', ';', ';', ';', ';', ';', ';', ';', ';', ';', ';', ';', ';', ';', ';', '%', '?', 'B', '%', '%', '#', ';', '+', '+', '+', '#', '?', '$', '#', '$', '%', '*', '+', '+', '+', ';', ';', ';', '%', '?', ' ', ' ', ' ', ' ', ' ', ' '], [' ', ' ', ' ', ' ', ' ', ' ', ' ', ' ', ' ', ',', '#', ';', ';', ';', ';', ';', ';', ';', ';', ';', ';', ';', ';', ';', ';', ';', ';', ';', ';', ';', ';', ';', '+', 'B', '$', '+', '+', '*', '*', ';', '+', '+', '%', '+', '.', ',', ';', '*', 'B', '#', '#', 'B', '?', '+', ';', '%', '?', ' ', ' ', ' ', ' ', ' ', ' ', ' '], [' ', ' ', ' ', ' ', ' ', ' ', ' ', ' ', ' ', '+', 'B', ';', ';', ';', ';', ';', ';', ';', ';', ';', ';', ';', ';', ';', ';', ';', ';', ';', ';', ';', ';', ';', '+', 'B', '#', '*', '+', ';', ';', ';', '+', '*', 'B', ' ', ' ', ' ', ' ', ' ', '.', ':', '+', '%', '$', '#', '#', '?', ' ', ' ', ' ', ' ', ' ', ' ', ' ', ' '], [' ', ' ', ' ', ' ', ' ', ' ', ' ', ' ', '.', 'B', '+', ';', ';', ';', ';', ';', ';', ';', ';', ';', ';', ';', ';', ';', ';', ';', ';', ';', ';', ';', ';', ';', ';', 'B', '#', '*', '+', '+', '+', ';', '+', '$', ',', ' ', ' ', ' ', ' ', ' ', ' ', ' ', ' ', '.', ',', ':', '.', ' ', ' ', ' ', ' ', ' ', ' ', ' ', ' ', ' '], [' ', ' ', ' ', ' ', ' ', ' ', ' ', ' ', ',', '#', ';', ';', ';', ';', ';', ';', ';', ';', ';', ';', ';', ';', ';', ';', ';', ';', ';', ';', ';', ';', ';', ';', ';', '$', '$', '%', '*', '*', '%', '*', '?', '?', ' ', ' ', ' ', ' ', ' ', ' ', ' ', ' ', ' ', ' ', ' ', ' ', ' ', ' ', ' ', ' ', ' ', ' ', ' ', ' ', ' ', ' '], [' ', ' ', ' ', ' ', ' ', ' ', ' ', ' ', '*', '%', ';', ';', ';', ';', ';', ';', ';', ';', ';', ';', ';', ';', ';', ';', ';', ';', ';', ';', ';', ';', ';', ';', ';', '$', '#', '$', '%', '%', '#', '$', '$', '.', ' ', ' ', ' ', ' ', ' ', ' ', ' ', ' ', ' ', ' ', ' ', ' ', ' ', ' ', ' ', ' ', ' ', ' ', ' ', ' ', ' ', ' '], [' ', ' ', ' ', ' ', ' ', ' ', ' ', '.', '$', '+', ';', ';', ';', ';', ';', ';', ';', ';', ';', ';', ';', ';', ';', ';', ';', ';', ';', ';', ';', ';', ';', ';', ';', '?', '$', '$', 'B', '$', '*', '.', ' ', ' ', ' ', ' ', ' ', ' ', ' ', ' ', ' ', ' ', ' ', ' ', ' ', ' ', ' ', ' ', ' ', ' ', ' ', ' ', ' ', ' ', ' ', ' '], [' ', ' ', ' ', ' ', ' ', ' ', ' ', ':', '$', ';', ';', ';', ';', ';', ';', ';', ';', ';', ';', ';', ';', ';', ';', ';', ';', ';', ';', ';', ';', ';', ';', ';', ';', '+', 'B', 'B', 'B', '$', ';', ' ', ' ', ' ', ' ', ' ', ' ', ' ', ' ', ' ', ' ', ' ', ' ', ' ', ' ', ' ', ' ', ' ', ' ', ' ', ' ', ' ', ' ', ' ', ' ', ' '], [' ', ' ', ' ', ' ', ' ', ' ', ' ', '?', '?', ';', ';', ';', ';', ';', ';', ';', ';', ';', ';', ';', ';', ';', ';', ';', ';', ';', ';', ';', ';', ';', ';', ';', ';', ';', '$', '#', '$', '#', ':', ' ', ' ', ' ', ' ', ' ', ' ', ' ', ' ', ' ', ' ', ' ', ' ', ' ', ' ', ' ', ' ', ' ', ' ', ' ', ' ', ' ', ' ', ' ', ' ', ' '], [' ', ' ', ' ', ' ', ' ', ' ', '.', '$', '+', ';', ';', ';', ';', ';', ';', ';', ';', ';', ';', ';', ';', ';', ';', ';', ';', ';', ';', ';', ';', ';', ';', ';', ';', ';', '%', 'B', '%', '%', ' ', ' ', ' ', ' ', ' ', ' ', ' ', ' ', ' ', ' ', ' ', ' ', ' ', ' ', ' ', ' ', ' ', ' ', ' ', ' ', ' ', ' ', ' ', ' ', ' ', ' '], [' ', ' ', ' ', ' ', ' ', ' ', '.', '$', '*', ';', ';', ';', ';', ';', ';', ';', ';', ';', ';', ';', ';', ';', ';', ';', ';', ';', ';', ';', ';', ';', ';', ';', ';', ';', '*', '+', ' ', ' ', ' ', ' ', ' ', ' ', ' ', ' ', ' ', ' ', ' ', ' ', ' ', ' ', ' ', ' ', ' ', ' ', ' ', ' ', ' ', ' ', ' ', ' ', ' ', ' ', ' ', ' '], [' ', ' ', ' ', ' ', ' ', ' ', '.', '%', 'B', '+', '+', '+', '+', ';', ';', ';', ';', ';', ';', ';', ';', ';', '+', '+', '+', '+', '+', '+', '+', ';', ';', ';', ';', ';', '+', '*', ' ', ' ', ' ', ' ', ' ', ' ', ' ', ' ', ' ', ' ', ' ', ' ', ' ', ' ', ' ', ' ', ' ', ' ', ' ', ' ', ' ', ' ', ' ', ' ', ' ', ' ', ' ', ' '], [' ', ' ', ' ', ' ', ' ', ' ', ' ', '+', '@', '*', '+', '+', '+', '+', '+', '+', '+', '+', '+', '+', '+', '+', '+', '+', '+', '+', '+', '+', '+', '+', '+', '+', ';', ';', '?', ';', ' ', ' ', ' ', ' ', ' ', ' ', ' ', ' ', ' ', ' ', ' ', ' ', ' ', ' ', ' ', ' ', ' ', ' ', ' ', ' ', ' ', ' ', ' ', ' ', ' ', ' ', ' ', ' '], [' ', ' ', ' ', ' ', ' ', ' ', ' ', '*', '#', 'B', '*', '*', '+', '+', '+', '+', '+', '*', '*', '?', '?', '?', '*', '?', '+', '+', '+', '+', '+', '+', '+', '+', '+', ';', '$', ' ', ' ', ' ', ' ', ' ', ' ', ' ', ' ', ' ', ' ', ' ', ' ', ' ', ' ', ' ', ' ', ' ', ' ', ' ', ' ', ' ', ' ', ' ', ' ', ' ', ' ', ' ', ' ', ' '], [' ', ' ', ' ', ' ', ' ', ',', '$', '%', '+', ';', ';', '*', '+', '*', '?', '#', '#', '$', 'B', '$', '$', '#', '#', 'B', '%', '*', '+', '+', '+', '+', '+', '+', '*', '%', '$', ';', ' ', ' ', ' ', ' ', ' ', ' ', ' ', ' ', ' ', ' ', ' ', ' ', ' ', ' ', ' ', ' ', ' ', ' ', ' ', ' ', ' ', ' ', ' ', ' ', ' ', ' ', ' ', ' '], [' ', ' ', ' ', ' ', '.', '$', '?', '*', '+', '+', '*', '?', '%', 'B', '$', ';', ',', '.', '.', '.', ',', ':', ';', '*', '%', '$', '#', '#', '$', '?', '?', '?', '+', '+', '+', '%', 'B', ',', ' ', ' ', ' ', ' ', ' ', ' ', ' ', ' ', ' ', ' ', ' ', ' ', ' ', ' ', ' ', ' ', ' ', ' ', ' ', ' ', ' ', ' ', ' ', ' ', ' ', ' '], [' ', ' ', ' ', ' ', ',', 'B', '#', '$', '#', '$', 'B', '%', '*', ':', ' ', ' ', ' ', ' ', ' ', ' ', ' ', ' ', ' ', ' ', '.', ',', ':', '+', '$', '#', 'B', '*', '+', ';', ';', '*', '?', '#', ';', ' ', ' ', ' ', ' ', ' ', ' ', ' ', ' ', ' ', ' ', ' ', ' ', ' ', ' ', ' ', ' ', ' ', ' ', ' ', ' ', ' ', ' ', ' ', ' ', ' '], [' ', ' ', ' ', ' ', ' ', ',', ',', ',', ',', '.', ' ', ' ', ' ', ' ', ' ', ' ', ' ', ' ', ' ', ' ', ' ', ' ', ' ', ' ', ' ', ' ', ' ', ' ', ':', '+', '?', 'B', '#', '#', 'B', '*', '+', '*', '$', ' ', ' ', ' ', ' ', ' ', ' ', ' ', ' ', ' ', ' ', ' ', ' ', ' ', ' ', ' ', ' ', ' ', ' ', ' ', ' ', ' ', ' ', ' ', ' ', ' '], [' ', ' ', ' ', ' ', ' ', ' ', ' ', ' ', ' ', ' ', ' ', ' ', ' ', ' ', ' ', ' ', ' ', ' ', ' ', ' ', ' ', ' ', ' ', ' ', ' ', ' ', ' ', ' ', ' ', ' ', ' ', '.', ',', ';', '?', '$', '#', '$', '*', ' ', ' ', ' ', ' ', ' ', ' ', ' ', ' ', ' ', ' ', ' ', ' ', ' ', ' ', ' ', ' ', ' ', ' ', ' ', ' ', ' ', ' ', ' ', ' ', ' ']]\n"
     ]
    }
   ],
   "source": [
    "ascii_image = []\n",
    "\n",
    "folder_path = 'input-msgs'\n",
    "\n",
    "message_filename = 'message-2'\n",
    "\n",
    "message_filepath = os.path.join(folder_path, message_filename)\n",
    "\n",
    "# Open the file in read mode\n",
    "with open(message_filepath, 'r') as file:\n",
    "    for line in file:\n",
    "        # Convert each character of the line into a list and append to ascii_image\n",
    "        ascii_image.append(list(line.replace('\\n', '')))\n",
    "\n",
    "print(ascii_image)"
   ]
  },
  {
   "cell_type": "markdown",
   "id": "6661a5c1",
   "metadata": {},
   "source": [
    "## Creating Value Dictionary"
   ]
  },
  {
   "cell_type": "code",
   "execution_count": 118,
   "id": "2fd36c5c",
   "metadata": {},
   "outputs": [
    {
     "name": "stdout",
     "output_type": "stream",
     "text": [
      "[' ', ';', '*', '@', '#', '?', '.', '$', '+', ',', '%', 'B', ':']\n",
      "['@', '#', '$', 'B', '%', '?', '*', '+', ';', ':', ',', '.', ' ']\n",
      "{'@': 0, '#': 19, '$': 38, 'B': 57, '%': 76, '?': 95, '*': 114, '+': 133, ';': 152, ':': 171, ',': 190, '.': 209, ' ': 228}\n"
     ]
    }
   ],
   "source": [
    "# List used to determine relative position of sublist items\n",
    "FULL_ASCII_CHARS = ['@', '#', '$', 'B', '%', '?', '8', '&', 'W', 'M', '*', 'o', 'a', 'h', 'k', 'b', 'd', 'p', 'q', 'w', 'm', 'Z', 'O', '0', 'Q', 'L', 'C', 'J', 'U', 'Y', 'X', 'z', 'c', 'v', 'u', 'n', 'x', 'r', 'j', 'f', 't', '/', '\\\\', '|', '(', ')', '1', '{', '}', '[', ']', '-', '_', '+', '~', '<', '>', 'i', '!', 'l', 'I', ';', ':', ',', '^', '`', \"'\", '.', ' ']\n",
    "\n",
    "# Finds all the unique characters in the image\n",
    "unique_list = []\n",
    "for row in range(len(ascii_image)):\n",
    "    for cell in range(len(ascii_image[row])):\n",
    "        if(ascii_image[row][cell] not in unique_list):\n",
    "            unique_list.append(ascii_image[row][cell])\n",
    "print(unique_list)\n",
    "\n",
    "# Sorts the list of ascii characters relative to the FULL_ASCII_CHARS list\n",
    "sorted_unique_list = sorted(unique_list, key=FULL_ASCII_CHARS.index)\n",
    "print(sorted_unique_list)\n",
    "\n",
    "# Generates the Step Value\n",
    "sorted_list_length = len(sorted_unique_list)\n",
    "color_distance = 255 / sorted_list_length\n",
    "color_distance = math.floor(color_distance)\n",
    "\n",
    "# Outputs the final dictionary\n",
    "sorted_list_dictionary = {item: int(index * color_distance) for index, item in enumerate(sorted_unique_list)}\n",
    "print(sorted_list_dictionary)"
   ]
  },
  {
   "cell_type": "code",
   "execution_count": 119,
   "id": "2e9df528",
   "metadata": {},
   "outputs": [
    {
     "name": "stdout",
     "output_type": "stream",
     "text": [
      "{'@': 0, '#': 19, '$': 38, 'B': 57, '%': 76, '?': 95, '*': 114, '+': 133, ';': 152, ':': 171, ',': 190, '.': 209, ' ': 228}\n"
     ]
    }
   ],
   "source": [
    "PART_ASCII_DICT = sorted_list_dictionary\n",
    "print(PART_ASCII_DICT)"
   ]
  },
  {
   "cell_type": "markdown",
   "id": "874604f9",
   "metadata": {},
   "source": [
    "## Generating Image"
   ]
  },
  {
   "cell_type": "code",
   "execution_count": 120,
   "id": "5c7a5154",
   "metadata": {},
   "outputs": [
    {
     "data": {
      "image/png": "[encoded data removed]",
      "text/plain": [
       "<PIL.Image.Image image mode=L size=64x64>"
      ]
     },
     "metadata": {},
     "output_type": "display_data"
    }
   ],
   "source": [
    "low_res_bw_decode_array = []\n",
    "for row in range(len(ascii_image)):\n",
    "    current_row = []\n",
    "    for cell in range(len(ascii_image[row])):\n",
    "        current_row.append(sorted_list_dictionary[ascii_image[row][cell]])\n",
    "    \n",
    "    low_res_bw_decode_array.append(current_row)\n",
    "    \n",
    "#print(low_res_bw_decode_array)\n",
    "\n",
    "low_res_bw_decode_numpy = np.array(low_res_bw_decode_array)\n",
    "\n",
    "low_res_bw_decode_image = Image.fromarray(low_res_bw_decode_numpy.astype('uint8'))\n",
    "# Shows the image\n",
    "display(low_res_bw_decode_image)\n",
    "\n"
   ]
  },
  {
   "cell_type": "code",
   "execution_count": 122,
   "id": "b315d177",
   "metadata": {},
   "outputs": [],
   "source": [
    "output_folder_path = 'output-imgs'\n",
    "\n",
    "num_of_files = len(os.listdir(output_folder_path))\n",
    "\n",
    "image_filename = \"img-\" + str(num_of_files) + \".png\"\n",
    "\n",
    "image_filepath = os.path.join(output_folder_path, image_filename)\n",
    "\n",
    "low_res_bw_decode_image.save(image_filepath)"
   ]
  }
 ],
 "metadata": {
  "kernelspec": {
   "display_name": "Python 3 (ipykernel)",
   "language": "python",
   "name": "python3"
  },
  "language_info": {
   "codemirror_mode": {
    "name": "ipython",
    "version": 3
   },
   "file_extension": ".py",
   "mimetype": "text/x-python",
   "name": "python",
   "nbconvert_exporter": "python",
   "pygments_lexer": "ipython3",
   "version": "3.9.13"
  }
 },
 "nbformat": 4,
 "nbformat_minor": 5
}
